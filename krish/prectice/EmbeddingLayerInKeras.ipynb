{
  "nbformat": 4,
  "nbformat_minor": 0,
  "metadata": {
    "colab": {
      "provenance": [],
      "gpuType": "T4"
    },
    "kernelspec": {
      "name": "python3",
      "display_name": "Python 3"
    },
    "language_info": {
      "name": "python"
    },
    "accelerator": "GPU"
  },
  "cells": [
    {
      "cell_type": "code",
      "execution_count": 1,
      "metadata": {
        "colab": {
          "base_uri": "https://localhost:8080/"
        },
        "id": "pNa1ZiyY_eVI",
        "outputId": "bfeab911-a37a-4be8-9e32-8ad5349e1d42"
      },
      "outputs": [
        {
          "output_type": "stream",
          "name": "stdout",
          "text": [
            "Ritu\n"
          ]
        }
      ],
      "source": [
        "print('Ritu')"
      ]
    },
    {
      "cell_type": "code",
      "source": [
        "import numpy as np\n",
        "import pandas as pd\n",
        "\n",
        "import tensorflow as tf\n",
        "from tensorflow.keras.preprocessing.text import one_hot\n",
        "from tensorflow.keras.preprocessing.sequence import pad_sequences\n",
        "from tensorflow.keras.models import Sequential\n",
        "from tensorflow.keras.layers import Dense,Dropout,Embedding\n",
        "from tensorflow.keras.optimizers import Adam"
      ],
      "metadata": {
        "id": "_J5oj9mt_pBa"
      },
      "execution_count": 15,
      "outputs": []
    },
    {
      "cell_type": "code",
      "source": [
        "print(tf.__version__)"
      ],
      "metadata": {
        "colab": {
          "base_uri": "https://localhost:8080/"
        },
        "id": "YrXnhCbSAvs9",
        "outputId": "1f35485f-eeb4-4a5e-d596-aa106ae4766a"
      },
      "execution_count": 3,
      "outputs": [
        {
          "output_type": "stream",
          "name": "stdout",
          "text": [
            "2.17.1\n"
          ]
        }
      ]
    },
    {
      "cell_type": "code",
      "source": [
        "### sentences\n",
        "sent=[  'the glass of milk',\n",
        "     'the glass of juice',\n",
        "     'the cup of tea',\n",
        "    'I am a good boy',\n",
        "     'I am a good developer',\n",
        "     'understand the meaning of words',\n",
        "     'your videos are good']"
      ],
      "metadata": {
        "id": "9JMB3JaoA7Fe"
      },
      "execution_count": 6,
      "outputs": []
    },
    {
      "cell_type": "code",
      "source": [
        "sent"
      ],
      "metadata": {
        "colab": {
          "base_uri": "https://localhost:8080/"
        },
        "id": "zAE8EWfIB7JL",
        "outputId": "f82695a4-2cc6-4591-ab6b-bf152f733a20"
      },
      "execution_count": 7,
      "outputs": [
        {
          "output_type": "execute_result",
          "data": {
            "text/plain": [
              "['the glass of milk',\n",
              " 'the glass of juice',\n",
              " 'the cup of tea',\n",
              " 'I am a good boy',\n",
              " 'I am a good developer',\n",
              " 'understand the meaning of words',\n",
              " 'your videos are good']"
            ]
          },
          "metadata": {},
          "execution_count": 7
        }
      ]
    },
    {
      "cell_type": "code",
      "source": [
        "vocap_size = 50"
      ],
      "metadata": {
        "id": "44pE5FfoGeyZ"
      },
      "execution_count": 11,
      "outputs": []
    },
    {
      "cell_type": "code",
      "source": [
        "onehotData = [one_hot(text,vocap_size) for text in sent]\n",
        "onehotData"
      ],
      "metadata": {
        "colab": {
          "base_uri": "https://localhost:8080/"
        },
        "id": "cYqg1a50B8Rj",
        "outputId": "8efd6a05-0a34-405b-f533-ee2d258dd1fd"
      },
      "execution_count": 12,
      "outputs": [
        {
          "output_type": "execute_result",
          "data": {
            "text/plain": [
              "[[37, 2, 16, 22],\n",
              " [37, 2, 16, 41],\n",
              " [37, 26, 16, 39],\n",
              " [13, 5, 27, 15, 17],\n",
              " [13, 5, 27, 15, 23],\n",
              " [18, 37, 44, 16, 36],\n",
              " [25, 2, 47, 15]]"
            ]
          },
          "metadata": {},
          "execution_count": 12
        }
      ]
    },
    {
      "cell_type": "code",
      "source": [
        "max_len = max([len(row) for row in onehotData])\n",
        "max_len"
      ],
      "metadata": {
        "colab": {
          "base_uri": "https://localhost:8080/"
        },
        "id": "pLtiU-xMG50S",
        "outputId": "27622107-316a-44be-b903-006c6dc0ef17"
      },
      "execution_count": 18,
      "outputs": [
        {
          "output_type": "execute_result",
          "data": {
            "text/plain": [
              "5"
            ]
          },
          "metadata": {},
          "execution_count": 18
        }
      ]
    },
    {
      "cell_type": "code",
      "source": [
        "vocap_size,dim,max_len"
      ],
      "metadata": {
        "colab": {
          "base_uri": "https://localhost:8080/"
        },
        "id": "UXzAiqveP091",
        "outputId": "efc5f231-0d2a-41e0-ea98-7291fe79959a"
      },
      "execution_count": 59,
      "outputs": [
        {
          "output_type": "execute_result",
          "data": {
            "text/plain": [
              "(50, 10, 5)"
            ]
          },
          "metadata": {},
          "execution_count": 59
        }
      ]
    },
    {
      "cell_type": "code",
      "source": [
        "embeddedData = pad_sequences(onehotData,padding = 'pre',maxlen = max_len)\n",
        "embeddedData"
      ],
      "metadata": {
        "colab": {
          "base_uri": "https://localhost:8080/"
        },
        "id": "uXB5l1sbH9xY",
        "outputId": "6be871f9-a5d7-41c7-c4c2-d76c51178065"
      },
      "execution_count": 20,
      "outputs": [
        {
          "output_type": "execute_result",
          "data": {
            "text/plain": [
              "array([[ 0, 37,  2, 16, 22],\n",
              "       [ 0, 37,  2, 16, 41],\n",
              "       [ 0, 37, 26, 16, 39],\n",
              "       [13,  5, 27, 15, 17],\n",
              "       [13,  5, 27, 15, 23],\n",
              "       [18, 37, 44, 16, 36],\n",
              "       [ 0, 25,  2, 47, 15]], dtype=int32)"
            ]
          },
          "metadata": {},
          "execution_count": 20
        }
      ]
    },
    {
      "cell_type": "code",
      "source": [
        "dim  = 10"
      ],
      "metadata": {
        "id": "OVtRwezqJWkq"
      },
      "execution_count": 21,
      "outputs": []
    },
    {
      "cell_type": "code",
      "source": [
        "model1 = Sequential([\n",
        "    Embedding(50,10, input_length=5),  # input_length is 5\n",
        "])\n",
        "\n",
        "model1.compile(optimizer='adam', loss='mse')\n",
        "\n",
        "# Predict on the entire batch (embeddedData shape is [7, 5])\n",
        "predictions = model1.predict(embeddedData)\n",
        "print(predictions)"
      ],
      "metadata": {
        "colab": {
          "base_uri": "https://localhost:8080/"
        },
        "id": "teE7WputQ8m2",
        "outputId": "97093827-1ca7-4fba-957f-e8ed76dd9047"
      },
      "execution_count": 78,
      "outputs": [
        {
          "output_type": "stream",
          "name": "stderr",
          "text": [
            "/usr/local/lib/python3.10/dist-packages/keras/src/layers/core/embedding.py:90: UserWarning: Argument `input_length` is deprecated. Just remove it.\n",
            "  warnings.warn(\n"
          ]
        },
        {
          "output_type": "stream",
          "name": "stdout",
          "text": [
            "\u001b[1m1/1\u001b[0m \u001b[32m━━━━━━━━━━━━━━━━━━━━\u001b[0m\u001b[37m\u001b[0m \u001b[1m36s\u001b[0m 36s/step\n",
            "[[[ 0.0228992  -0.0007313  -0.02879388 -0.03942046  0.03147504\n",
            "    0.03263609  0.03144297  0.01201937 -0.040711   -0.0118219 ]\n",
            "  [-0.01541989  0.03853131 -0.03989215  0.03016161 -0.00193312\n",
            "   -0.00262998 -0.02471063 -0.0115096  -0.01345154  0.0431448 ]\n",
            "  [ 0.0018006   0.00284176 -0.03194071  0.00886977 -0.00378014\n",
            "    0.02510954 -0.03750885  0.00246731  0.00615953 -0.00193279]\n",
            "  [-0.0112588   0.03229565  0.03826823  0.00081724  0.0048073\n",
            "   -0.02422904 -0.01257791 -0.04653653  0.04733897 -0.00091209]\n",
            "  [-0.04182092 -0.03966621  0.03883958  0.01198486  0.03949647\n",
            "   -0.01514728 -0.02953814  0.03202074 -0.00586355  0.01319331]]\n",
            "\n",
            " [[ 0.0228992  -0.0007313  -0.02879388 -0.03942046  0.03147504\n",
            "    0.03263609  0.03144297  0.01201937 -0.040711   -0.0118219 ]\n",
            "  [-0.01541989  0.03853131 -0.03989215  0.03016161 -0.00193312\n",
            "   -0.00262998 -0.02471063 -0.0115096  -0.01345154  0.0431448 ]\n",
            "  [ 0.0018006   0.00284176 -0.03194071  0.00886977 -0.00378014\n",
            "    0.02510954 -0.03750885  0.00246731  0.00615953 -0.00193279]\n",
            "  [-0.0112588   0.03229565  0.03826823  0.00081724  0.0048073\n",
            "   -0.02422904 -0.01257791 -0.04653653  0.04733897 -0.00091209]\n",
            "  [-0.00280777 -0.04136227 -0.02685006  0.01234659 -0.00919146\n",
            "   -0.02938939 -0.0115672  -0.03672185  0.00358813 -0.02124532]]\n",
            "\n",
            " [[ 0.0228992  -0.0007313  -0.02879388 -0.03942046  0.03147504\n",
            "    0.03263609  0.03144297  0.01201937 -0.040711   -0.0118219 ]\n",
            "  [-0.01541989  0.03853131 -0.03989215  0.03016161 -0.00193312\n",
            "   -0.00262998 -0.02471063 -0.0115096  -0.01345154  0.0431448 ]\n",
            "  [ 0.00172417  0.04156877 -0.03655937 -0.00606463  0.00830003\n",
            "    0.00411314  0.04831408  0.03239099  0.04580505 -0.03074098]\n",
            "  [-0.0112588   0.03229565  0.03826823  0.00081724  0.0048073\n",
            "   -0.02422904 -0.01257791 -0.04653653  0.04733897 -0.00091209]\n",
            "  [-0.00995102 -0.03213664 -0.01928259 -0.01596514  0.00501969\n",
            "    0.00650163 -0.03570963 -0.0328619   0.00497783  0.03100852]]\n",
            "\n",
            " [[-0.03100386  0.04383573 -0.02997469 -0.03007617 -0.00344654\n",
            "   -0.04303215 -0.04112095 -0.04653802 -0.01179125  0.02530526]\n",
            "  [-0.0203313   0.02881751  0.01988336  0.04292018 -0.02519527\n",
            "   -0.00159707 -0.01624908 -0.0375971  -0.03533633 -0.02735998]\n",
            "  [ 0.00329757  0.02110479  0.01259441  0.019549    0.02389527\n",
            "    0.04676987  0.02386865 -0.04404352 -0.01583092  0.01459402]\n",
            "  [-0.04847413 -0.03429302 -0.01846327 -0.01135143 -0.0451173\n",
            "   -0.03729489 -0.03528371 -0.04313307 -0.01138169 -0.0116623 ]\n",
            "  [ 0.01354284  0.03867957  0.02932962  0.03324584 -0.03638294\n",
            "   -0.00296372  0.04288581  0.02768669 -0.02832332  0.03284096]]\n",
            "\n",
            " [[-0.03100386  0.04383573 -0.02997469 -0.03007617 -0.00344654\n",
            "   -0.04303215 -0.04112095 -0.04653802 -0.01179125  0.02530526]\n",
            "  [-0.0203313   0.02881751  0.01988336  0.04292018 -0.02519527\n",
            "   -0.00159707 -0.01624908 -0.0375971  -0.03533633 -0.02735998]\n",
            "  [ 0.00329757  0.02110479  0.01259441  0.019549    0.02389527\n",
            "    0.04676987  0.02386865 -0.04404352 -0.01583092  0.01459402]\n",
            "  [-0.04847413 -0.03429302 -0.01846327 -0.01135143 -0.0451173\n",
            "   -0.03729489 -0.03528371 -0.04313307 -0.01138169 -0.0116623 ]\n",
            "  [ 0.02555921  0.03891691 -0.04204739 -0.03114828 -0.04068901\n",
            "    0.02927292  0.03600917 -0.03241481 -0.00158036 -0.04380162]]\n",
            "\n",
            " [[-0.028842    0.03155324  0.03207586  0.0347285   0.01418023\n",
            "   -0.00664737  0.01485169  0.03979756  0.02565527  0.0183501 ]\n",
            "  [-0.01541989  0.03853131 -0.03989215  0.03016161 -0.00193312\n",
            "   -0.00262998 -0.02471063 -0.0115096  -0.01345154  0.0431448 ]\n",
            "  [ 0.01659195  0.01723251  0.00447531  0.0454913   0.03270287\n",
            "    0.01826403 -0.02386194 -0.00562     0.02616152  0.04670915]\n",
            "  [-0.0112588   0.03229565  0.03826823  0.00081724  0.0048073\n",
            "   -0.02422904 -0.01257791 -0.04653653  0.04733897 -0.00091209]\n",
            "  [-0.04153104  0.00458914  0.0338801   0.01160184 -0.02690905\n",
            "    0.00265914  0.00435491  0.02220202  0.03981863 -0.04605693]]\n",
            "\n",
            " [[ 0.0228992  -0.0007313  -0.02879388 -0.03942046  0.03147504\n",
            "    0.03263609  0.03144297  0.01201937 -0.040711   -0.0118219 ]\n",
            "  [-0.00934923 -0.02509525 -0.0031235   0.03061273 -0.0358782\n",
            "   -0.02531228 -0.02950596 -0.00385491  0.00179718 -0.00117306]\n",
            "  [ 0.0018006   0.00284176 -0.03194071  0.00886977 -0.00378014\n",
            "    0.02510954 -0.03750885  0.00246731  0.00615953 -0.00193279]\n",
            "  [-0.03883738 -0.00107523  0.03275497  0.0206053   0.01907689\n",
            "   -0.02218978 -0.04193012  0.0138428  -0.0461202   0.02690215]\n",
            "  [-0.04847413 -0.03429302 -0.01846327 -0.01135143 -0.0451173\n",
            "   -0.03729489 -0.03528371 -0.04313307 -0.01138169 -0.0116623 ]]]\n"
          ]
        }
      ]
    },
    {
      "cell_type": "code",
      "source": [
        "model = Sequential([\n",
        "    Embedding(50,10,input_length = 5),\n",
        "])\n",
        "\n",
        "model.compile( optimizer = 'adam',loss = 'mse')\n",
        "\n"
      ],
      "metadata": {
        "colab": {
          "base_uri": "https://localhost:8080/"
        },
        "id": "8-uU6cGHInsV",
        "outputId": "79b456ad-ba55-4ef7-ba5c-7c71ccf1ea1f"
      },
      "execution_count": 85,
      "outputs": [
        {
          "output_type": "stream",
          "name": "stderr",
          "text": [
            "/usr/local/lib/python3.10/dist-packages/keras/src/layers/core/embedding.py:90: UserWarning: Argument `input_length` is deprecated. Just remove it.\n",
            "  warnings.warn(\n"
          ]
        }
      ]
    },
    {
      "cell_type": "code",
      "source": [
        "model.summary()"
      ],
      "metadata": {
        "colab": {
          "base_uri": "https://localhost:8080/",
          "height": 167
        },
        "id": "9Svmt954J7KR",
        "outputId": "d652067d-5221-4148-9660-d817d9712633"
      },
      "execution_count": 86,
      "outputs": [
        {
          "output_type": "display_data",
          "data": {
            "text/plain": [
              "\u001b[1mModel: \"sequential_16\"\u001b[0m\n"
            ],
            "text/html": [
              "<pre style=\"white-space:pre;overflow-x:auto;line-height:normal;font-family:Menlo,'DejaVu Sans Mono',consolas,'Courier New',monospace\"><span style=\"font-weight: bold\">Model: \"sequential_16\"</span>\n",
              "</pre>\n"
            ]
          },
          "metadata": {}
        },
        {
          "output_type": "display_data",
          "data": {
            "text/plain": [
              "┏━━━━━━━━━━━━━━━━━━━━━━━━━━━━━━━━━━━━━━┳━━━━━━━━━━━━━━━━━━━━━━━━━━━━━┳━━━━━━━━━━━━━━━━━┓\n",
              "┃\u001b[1m \u001b[0m\u001b[1mLayer (type)                        \u001b[0m\u001b[1m \u001b[0m┃\u001b[1m \u001b[0m\u001b[1mOutput Shape               \u001b[0m\u001b[1m \u001b[0m┃\u001b[1m \u001b[0m\u001b[1m        Param #\u001b[0m\u001b[1m \u001b[0m┃\n",
              "┡━━━━━━━━━━━━━━━━━━━━━━━━━━━━━━━━━━━━━━╇━━━━━━━━━━━━━━━━━━━━━━━━━━━━━╇━━━━━━━━━━━━━━━━━┩\n",
              "│ embedding_16 (\u001b[38;5;33mEmbedding\u001b[0m)             │ ?                           │     \u001b[38;5;34m0\u001b[0m (unbuilt) │\n",
              "└──────────────────────────────────────┴─────────────────────────────┴─────────────────┘\n"
            ],
            "text/html": [
              "<pre style=\"white-space:pre;overflow-x:auto;line-height:normal;font-family:Menlo,'DejaVu Sans Mono',consolas,'Courier New',monospace\">┏━━━━━━━━━━━━━━━━━━━━━━━━━━━━━━━━━━━━━━┳━━━━━━━━━━━━━━━━━━━━━━━━━━━━━┳━━━━━━━━━━━━━━━━━┓\n",
              "┃<span style=\"font-weight: bold\"> Layer (type)                         </span>┃<span style=\"font-weight: bold\"> Output Shape                </span>┃<span style=\"font-weight: bold\">         Param # </span>┃\n",
              "┡━━━━━━━━━━━━━━━━━━━━━━━━━━━━━━━━━━━━━━╇━━━━━━━━━━━━━━━━━━━━━━━━━━━━━╇━━━━━━━━━━━━━━━━━┩\n",
              "│ embedding_16 (<span style=\"color: #0087ff; text-decoration-color: #0087ff\">Embedding</span>)             │ ?                           │     <span style=\"color: #00af00; text-decoration-color: #00af00\">0</span> (unbuilt) │\n",
              "└──────────────────────────────────────┴─────────────────────────────┴─────────────────┘\n",
              "</pre>\n"
            ]
          },
          "metadata": {}
        },
        {
          "output_type": "display_data",
          "data": {
            "text/plain": [
              "\u001b[1m Total params: \u001b[0m\u001b[38;5;34m0\u001b[0m (0.00 B)\n"
            ],
            "text/html": [
              "<pre style=\"white-space:pre;overflow-x:auto;line-height:normal;font-family:Menlo,'DejaVu Sans Mono',consolas,'Courier New',monospace\"><span style=\"font-weight: bold\"> Total params: </span><span style=\"color: #00af00; text-decoration-color: #00af00\">0</span> (0.00 B)\n",
              "</pre>\n"
            ]
          },
          "metadata": {}
        },
        {
          "output_type": "display_data",
          "data": {
            "text/plain": [
              "\u001b[1m Trainable params: \u001b[0m\u001b[38;5;34m0\u001b[0m (0.00 B)\n"
            ],
            "text/html": [
              "<pre style=\"white-space:pre;overflow-x:auto;line-height:normal;font-family:Menlo,'DejaVu Sans Mono',consolas,'Courier New',monospace\"><span style=\"font-weight: bold\"> Trainable params: </span><span style=\"color: #00af00; text-decoration-color: #00af00\">0</span> (0.00 B)\n",
              "</pre>\n"
            ]
          },
          "metadata": {}
        },
        {
          "output_type": "display_data",
          "data": {
            "text/plain": [
              "\u001b[1m Non-trainable params: \u001b[0m\u001b[38;5;34m0\u001b[0m (0.00 B)\n"
            ],
            "text/html": [
              "<pre style=\"white-space:pre;overflow-x:auto;line-height:normal;font-family:Menlo,'DejaVu Sans Mono',consolas,'Courier New',monospace\"><span style=\"font-weight: bold\"> Non-trainable params: </span><span style=\"color: #00af00; text-decoration-color: #00af00\">0</span> (0.00 B)\n",
              "</pre>\n"
            ]
          },
          "metadata": {}
        }
      ]
    },
    {
      "cell_type": "code",
      "source": [
        "\n",
        "embeddedData[0]"
      ],
      "metadata": {
        "colab": {
          "base_uri": "https://localhost:8080/"
        },
        "id": "DDUCCLEiK4V3",
        "outputId": "9c359a36-114e-46c1-ab0e-89ef6f91b1b9"
      },
      "execution_count": 87,
      "outputs": [
        {
          "output_type": "execute_result",
          "data": {
            "text/plain": [
              "array([ 0, 37,  2, 16, 22], dtype=int32)"
            ]
          },
          "metadata": {},
          "execution_count": 87
        }
      ]
    },
    {
      "cell_type": "code",
      "source": [
        "print(model.predict(embeddedData))\n",
        "print(model.predict(embeddedData[0]))"
      ],
      "metadata": {
        "colab": {
          "base_uri": "https://localhost:8080/",
          "height": 1000
        },
        "id": "nf4y_hYVLf19",
        "outputId": "a4cd87b9-4081-4f30-f072-7b7bee06df52"
      },
      "execution_count": 88,
      "outputs": [
        {
          "output_type": "stream",
          "name": "stdout",
          "text": [
            "\u001b[1m1/1\u001b[0m \u001b[32m━━━━━━━━━━━━━━━━━━━━\u001b[0m\u001b[37m\u001b[0m \u001b[1m0s\u001b[0m 98ms/step\n",
            "[[[ 3.51999290e-02  4.20308746e-02  2.46604942e-02 -3.10275909e-02\n",
            "    1.00975260e-02  3.47289182e-02  1.00023746e-02  2.90750749e-02\n",
            "   -2.82866601e-02  4.39713933e-02]\n",
            "  [-1.93808228e-03  2.12300457e-02 -4.38799970e-02  5.51677868e-03\n",
            "   -2.98496336e-03 -2.56978516e-02 -2.75426395e-02  4.40771692e-02\n",
            "    2.21557282e-02 -1.47650018e-02]\n",
            "  [ 3.78242992e-02 -2.24696752e-02  4.53879498e-02  1.80815533e-03\n",
            "   -2.76134498e-02  2.19058506e-02 -1.24365687e-02  1.78267471e-02\n",
            "    4.53565158e-02 -1.33126155e-02]\n",
            "  [-3.19459215e-02 -8.14442709e-03  3.02344300e-02 -1.83746815e-02\n",
            "   -4.10873666e-02 -2.07603108e-02 -1.92689542e-02 -2.97187921e-02\n",
            "   -4.21907790e-02 -4.50411327e-02]\n",
            "  [-1.22661814e-02 -4.91096824e-03 -1.82894953e-02  3.04839648e-02\n",
            "   -3.40379700e-02 -4.90914471e-02  1.43456720e-02 -1.78514831e-02\n",
            "    4.69813496e-03  1.17440931e-02]]\n",
            "\n",
            " [[ 3.51999290e-02  4.20308746e-02  2.46604942e-02 -3.10275909e-02\n",
            "    1.00975260e-02  3.47289182e-02  1.00023746e-02  2.90750749e-02\n",
            "   -2.82866601e-02  4.39713933e-02]\n",
            "  [-1.93808228e-03  2.12300457e-02 -4.38799970e-02  5.51677868e-03\n",
            "   -2.98496336e-03 -2.56978516e-02 -2.75426395e-02  4.40771692e-02\n",
            "    2.21557282e-02 -1.47650018e-02]\n",
            "  [ 3.78242992e-02 -2.24696752e-02  4.53879498e-02  1.80815533e-03\n",
            "   -2.76134498e-02  2.19058506e-02 -1.24365687e-02  1.78267471e-02\n",
            "    4.53565158e-02 -1.33126155e-02]\n",
            "  [-3.19459215e-02 -8.14442709e-03  3.02344300e-02 -1.83746815e-02\n",
            "   -4.10873666e-02 -2.07603108e-02 -1.92689542e-02 -2.97187921e-02\n",
            "   -4.21907790e-02 -4.50411327e-02]\n",
            "  [ 4.13317196e-02 -2.61055231e-02  4.41800095e-02 -4.15830836e-02\n",
            "    3.98588888e-02  3.11692245e-02  3.96763571e-02  4.88862060e-02\n",
            "    2.75005028e-03 -3.78096923e-02]]\n",
            "\n",
            " [[ 3.51999290e-02  4.20308746e-02  2.46604942e-02 -3.10275909e-02\n",
            "    1.00975260e-02  3.47289182e-02  1.00023746e-02  2.90750749e-02\n",
            "   -2.82866601e-02  4.39713933e-02]\n",
            "  [-1.93808228e-03  2.12300457e-02 -4.38799970e-02  5.51677868e-03\n",
            "   -2.98496336e-03 -2.56978516e-02 -2.75426395e-02  4.40771692e-02\n",
            "    2.21557282e-02 -1.47650018e-02]\n",
            "  [-4.17964682e-02 -2.62989160e-02 -1.84689835e-03 -3.90006304e-02\n",
            "   -3.58138196e-02 -2.78723482e-02 -1.94373969e-02  3.38973291e-02\n",
            "   -4.07255180e-02 -3.20325717e-02]\n",
            "  [-3.19459215e-02 -8.14442709e-03  3.02344300e-02 -1.83746815e-02\n",
            "   -4.10873666e-02 -2.07603108e-02 -1.92689542e-02 -2.97187921e-02\n",
            "   -4.21907790e-02 -4.50411327e-02]\n",
            "  [-3.57234478e-02  4.62774672e-02 -4.25710343e-02  9.92512703e-03\n",
            "    2.56199762e-03 -4.39081192e-02  3.30964588e-02  4.08424996e-02\n",
            "   -2.91957501e-02  3.88594754e-02]]\n",
            "\n",
            " [[ 2.07549334e-03  3.44704278e-02 -4.16305177e-02 -1.62489638e-02\n",
            "    1.21575110e-02  4.29612137e-02  8.78240913e-03 -1.68195479e-02\n",
            "   -1.72959678e-02  2.80412175e-02]\n",
            "  [ 2.99658515e-02  2.38418616e-02  1.56172551e-02  3.88111956e-02\n",
            "   -6.40388578e-03 -3.81071083e-02  2.40027346e-02  3.70430835e-02\n",
            "   -3.56733799e-02  6.37140125e-03]\n",
            "  [ 1.22556910e-02 -2.60849725e-02  4.20100987e-05  2.60763206e-02\n",
            "   -2.42400412e-02  3.40488441e-02  4.85412739e-02 -1.25591867e-02\n",
            "    3.18479538e-03  1.82516463e-02]\n",
            "  [-3.95784266e-02 -2.20373273e-02  2.34599151e-02  3.12809460e-02\n",
            "   -8.65811110e-03  3.83758210e-02  2.42704153e-03  4.62696068e-02\n",
            "    2.73032300e-02  8.26457888e-03]\n",
            "  [ 1.86240189e-02  4.74881381e-04  3.67956050e-02  1.65113844e-02\n",
            "    2.32451223e-02  4.38737907e-02  2.00256370e-02 -1.67425722e-03\n",
            "    4.75574173e-02  5.90678304e-03]]\n",
            "\n",
            " [[ 2.07549334e-03  3.44704278e-02 -4.16305177e-02 -1.62489638e-02\n",
            "    1.21575110e-02  4.29612137e-02  8.78240913e-03 -1.68195479e-02\n",
            "   -1.72959678e-02  2.80412175e-02]\n",
            "  [ 2.99658515e-02  2.38418616e-02  1.56172551e-02  3.88111956e-02\n",
            "   -6.40388578e-03 -3.81071083e-02  2.40027346e-02  3.70430835e-02\n",
            "   -3.56733799e-02  6.37140125e-03]\n",
            "  [ 1.22556910e-02 -2.60849725e-02  4.20100987e-05  2.60763206e-02\n",
            "   -2.42400412e-02  3.40488441e-02  4.85412739e-02 -1.25591867e-02\n",
            "    3.18479538e-03  1.82516463e-02]\n",
            "  [-3.95784266e-02 -2.20373273e-02  2.34599151e-02  3.12809460e-02\n",
            "   -8.65811110e-03  3.83758210e-02  2.42704153e-03  4.62696068e-02\n",
            "    2.73032300e-02  8.26457888e-03]\n",
            "  [-3.11613809e-02 -3.42497230e-02 -9.23134387e-04 -1.27549283e-02\n",
            "    3.64558958e-02  1.34487189e-02 -1.07111819e-02  2.91888453e-02\n",
            "    1.55513547e-02  2.55795233e-02]]\n",
            "\n",
            " [[ 1.23567358e-02 -4.76313010e-02 -4.40442339e-02  2.26217620e-02\n",
            "    3.14870365e-02 -3.49655747e-05  2.53073610e-02 -3.01547535e-02\n",
            "   -3.85807157e-02  4.76852804e-03]\n",
            "  [-1.93808228e-03  2.12300457e-02 -4.38799970e-02  5.51677868e-03\n",
            "   -2.98496336e-03 -2.56978516e-02 -2.75426395e-02  4.40771692e-02\n",
            "    2.21557282e-02 -1.47650018e-02]\n",
            "  [ 1.31974369e-03  5.86892292e-03  3.53023894e-02  8.19982216e-03\n",
            "   -1.23951435e-02 -3.11198831e-02  3.51556204e-02  1.59002841e-04\n",
            "   -5.69405407e-03  2.63017677e-02]\n",
            "  [-3.19459215e-02 -8.14442709e-03  3.02344300e-02 -1.83746815e-02\n",
            "   -4.10873666e-02 -2.07603108e-02 -1.92689542e-02 -2.97187921e-02\n",
            "   -4.21907790e-02 -4.50411327e-02]\n",
            "  [ 3.22627760e-02  3.27904336e-02  4.96581234e-02  1.87542550e-02\n",
            "   -3.16748619e-02 -4.28160541e-02  4.93577830e-02 -1.68334320e-03\n",
            "   -2.31949575e-02 -8.80998373e-03]]\n",
            "\n",
            " [[ 3.51999290e-02  4.20308746e-02  2.46604942e-02 -3.10275909e-02\n",
            "    1.00975260e-02  3.47289182e-02  1.00023746e-02  2.90750749e-02\n",
            "   -2.82866601e-02  4.39713933e-02]\n",
            "  [ 2.26846375e-02 -1.09661445e-02  3.14544179e-02  4.45356853e-02\n",
            "   -1.11293048e-04 -4.26820628e-02  1.89439990e-02  3.93370055e-02\n",
            "   -2.22012643e-02 -1.39821693e-03]\n",
            "  [ 3.78242992e-02 -2.24696752e-02  4.53879498e-02  1.80815533e-03\n",
            "   -2.76134498e-02  2.19058506e-02 -1.24365687e-02  1.78267471e-02\n",
            "    4.53565158e-02 -1.33126155e-02]\n",
            "  [ 4.84118611e-03  4.69139256e-02  3.14340852e-02  6.54499605e-03\n",
            "   -2.42852569e-02 -1.02328062e-02 -1.93320587e-03  3.99282090e-02\n",
            "   -7.01335818e-03 -4.55914140e-02]\n",
            "  [-3.95784266e-02 -2.20373273e-02  2.34599151e-02  3.12809460e-02\n",
            "   -8.65811110e-03  3.83758210e-02  2.42704153e-03  4.62696068e-02\n",
            "    2.73032300e-02  8.26457888e-03]]]\n"
          ]
        },
        {
          "output_type": "error",
          "ename": "ValueError",
          "evalue": "Exception encountered when calling Sequential.call().\n\n\u001b[1mCannot take the length of shape with unknown rank.\u001b[0m\n\nArguments received by Sequential.call():\n  • inputs=tf.Tensor(shape=<unknown>, dtype=int32)\n  • training=False\n  • mask=None",
          "traceback": [
            "\u001b[0;31m---------------------------------------------------------------------------\u001b[0m",
            "\u001b[0;31mValueError\u001b[0m                                Traceback (most recent call last)",
            "\u001b[0;32m<ipython-input-88-a02423b5a5ef>\u001b[0m in \u001b[0;36m<cell line: 2>\u001b[0;34m()\u001b[0m\n\u001b[1;32m      1\u001b[0m \u001b[0mprint\u001b[0m\u001b[0;34m(\u001b[0m\u001b[0mmodel\u001b[0m\u001b[0;34m.\u001b[0m\u001b[0mpredict\u001b[0m\u001b[0;34m(\u001b[0m\u001b[0membeddedData\u001b[0m\u001b[0;34m)\u001b[0m\u001b[0;34m)\u001b[0m\u001b[0;34m\u001b[0m\u001b[0;34m\u001b[0m\u001b[0m\n\u001b[0;32m----> 2\u001b[0;31m \u001b[0mprint\u001b[0m\u001b[0;34m(\u001b[0m\u001b[0mmodel\u001b[0m\u001b[0;34m.\u001b[0m\u001b[0mpredict\u001b[0m\u001b[0;34m(\u001b[0m\u001b[0membeddedData\u001b[0m\u001b[0;34m[\u001b[0m\u001b[0;36m0\u001b[0m\u001b[0;34m]\u001b[0m\u001b[0;34m)\u001b[0m\u001b[0;34m)\u001b[0m\u001b[0;34m\u001b[0m\u001b[0;34m\u001b[0m\u001b[0m\n\u001b[0m",
            "\u001b[0;32m/usr/local/lib/python3.10/dist-packages/keras/src/utils/traceback_utils.py\u001b[0m in \u001b[0;36merror_handler\u001b[0;34m(*args, **kwargs)\u001b[0m\n\u001b[1;32m    120\u001b[0m             \u001b[0;31m# To get the full stack trace, call:\u001b[0m\u001b[0;34m\u001b[0m\u001b[0;34m\u001b[0m\u001b[0m\n\u001b[1;32m    121\u001b[0m             \u001b[0;31m# `keras.config.disable_traceback_filtering()`\u001b[0m\u001b[0;34m\u001b[0m\u001b[0;34m\u001b[0m\u001b[0m\n\u001b[0;32m--> 122\u001b[0;31m             \u001b[0;32mraise\u001b[0m \u001b[0me\u001b[0m\u001b[0;34m.\u001b[0m\u001b[0mwith_traceback\u001b[0m\u001b[0;34m(\u001b[0m\u001b[0mfiltered_tb\u001b[0m\u001b[0;34m)\u001b[0m \u001b[0;32mfrom\u001b[0m \u001b[0;32mNone\u001b[0m\u001b[0;34m\u001b[0m\u001b[0;34m\u001b[0m\u001b[0m\n\u001b[0m\u001b[1;32m    123\u001b[0m         \u001b[0;32mfinally\u001b[0m\u001b[0;34m:\u001b[0m\u001b[0;34m\u001b[0m\u001b[0;34m\u001b[0m\u001b[0m\n\u001b[1;32m    124\u001b[0m             \u001b[0;32mdel\u001b[0m \u001b[0mfiltered_tb\u001b[0m\u001b[0;34m\u001b[0m\u001b[0;34m\u001b[0m\u001b[0m\n",
            "\u001b[0;32m/usr/local/lib/python3.10/dist-packages/keras/src/utils/traceback_utils.py\u001b[0m in \u001b[0;36merror_handler\u001b[0;34m(*args, **kwargs)\u001b[0m\n\u001b[1;32m    120\u001b[0m             \u001b[0;31m# To get the full stack trace, call:\u001b[0m\u001b[0;34m\u001b[0m\u001b[0;34m\u001b[0m\u001b[0m\n\u001b[1;32m    121\u001b[0m             \u001b[0;31m# `keras.config.disable_traceback_filtering()`\u001b[0m\u001b[0;34m\u001b[0m\u001b[0;34m\u001b[0m\u001b[0m\n\u001b[0;32m--> 122\u001b[0;31m             \u001b[0;32mraise\u001b[0m \u001b[0me\u001b[0m\u001b[0;34m.\u001b[0m\u001b[0mwith_traceback\u001b[0m\u001b[0;34m(\u001b[0m\u001b[0mfiltered_tb\u001b[0m\u001b[0;34m)\u001b[0m \u001b[0;32mfrom\u001b[0m \u001b[0;32mNone\u001b[0m\u001b[0;34m\u001b[0m\u001b[0;34m\u001b[0m\u001b[0m\n\u001b[0m\u001b[1;32m    123\u001b[0m         \u001b[0;32mfinally\u001b[0m\u001b[0;34m:\u001b[0m\u001b[0;34m\u001b[0m\u001b[0;34m\u001b[0m\u001b[0m\n\u001b[1;32m    124\u001b[0m             \u001b[0;32mdel\u001b[0m \u001b[0mfiltered_tb\u001b[0m\u001b[0;34m\u001b[0m\u001b[0;34m\u001b[0m\u001b[0m\n",
            "\u001b[0;31mValueError\u001b[0m: Exception encountered when calling Sequential.call().\n\n\u001b[1mCannot take the length of shape with unknown rank.\u001b[0m\n\nArguments received by Sequential.call():\n  • inputs=tf.Tensor(shape=<unknown>, dtype=int32)\n  • training=False\n  • mask=None"
          ]
        }
      ]
    },
    {
      "cell_type": "code",
      "source": [],
      "metadata": {
        "colab": {
          "base_uri": "https://localhost:8080/",
          "height": 430
        },
        "id": "_1mCGVJRMRcr",
        "outputId": "166078cb-b892-485e-a013-b0c2d99ff293"
      },
      "execution_count": 84,
      "outputs": [
        {
          "output_type": "error",
          "ename": "ValueError",
          "evalue": "Exception encountered when calling Sequential.call().\n\n\u001b[1mCannot take the length of shape with unknown rank.\u001b[0m\n\nArguments received by Sequential.call():\n  • inputs=tf.Tensor(shape=<unknown>, dtype=int32)\n  • training=False\n  • mask=None",
          "traceback": [
            "\u001b[0;31m---------------------------------------------------------------------------\u001b[0m",
            "\u001b[0;31mValueError\u001b[0m                                Traceback (most recent call last)",
            "\u001b[0;32m<ipython-input-84-4bb11b09e3dc>\u001b[0m in \u001b[0;36m<cell line: 1>\u001b[0;34m()\u001b[0m\n\u001b[0;32m----> 1\u001b[0;31m \u001b[0mmodel\u001b[0m\u001b[0;34m.\u001b[0m\u001b[0mpredict\u001b[0m\u001b[0;34m(\u001b[0m\u001b[0membeddedData\u001b[0m\u001b[0;34m)\u001b[0m\u001b[0;34m\u001b[0m\u001b[0;34m\u001b[0m\u001b[0m\n\u001b[0m",
            "\u001b[0;32m/usr/local/lib/python3.10/dist-packages/keras/src/utils/traceback_utils.py\u001b[0m in \u001b[0;36merror_handler\u001b[0;34m(*args, **kwargs)\u001b[0m\n\u001b[1;32m    120\u001b[0m             \u001b[0;31m# To get the full stack trace, call:\u001b[0m\u001b[0;34m\u001b[0m\u001b[0;34m\u001b[0m\u001b[0m\n\u001b[1;32m    121\u001b[0m             \u001b[0;31m# `keras.config.disable_traceback_filtering()`\u001b[0m\u001b[0;34m\u001b[0m\u001b[0;34m\u001b[0m\u001b[0m\n\u001b[0;32m--> 122\u001b[0;31m             \u001b[0;32mraise\u001b[0m \u001b[0me\u001b[0m\u001b[0;34m.\u001b[0m\u001b[0mwith_traceback\u001b[0m\u001b[0;34m(\u001b[0m\u001b[0mfiltered_tb\u001b[0m\u001b[0;34m)\u001b[0m \u001b[0;32mfrom\u001b[0m \u001b[0;32mNone\u001b[0m\u001b[0;34m\u001b[0m\u001b[0;34m\u001b[0m\u001b[0m\n\u001b[0m\u001b[1;32m    123\u001b[0m         \u001b[0;32mfinally\u001b[0m\u001b[0;34m:\u001b[0m\u001b[0;34m\u001b[0m\u001b[0;34m\u001b[0m\u001b[0m\n\u001b[1;32m    124\u001b[0m             \u001b[0;32mdel\u001b[0m \u001b[0mfiltered_tb\u001b[0m\u001b[0;34m\u001b[0m\u001b[0;34m\u001b[0m\u001b[0m\n",
            "\u001b[0;32m/usr/local/lib/python3.10/dist-packages/keras/src/utils/traceback_utils.py\u001b[0m in \u001b[0;36merror_handler\u001b[0;34m(*args, **kwargs)\u001b[0m\n\u001b[1;32m    120\u001b[0m             \u001b[0;31m# To get the full stack trace, call:\u001b[0m\u001b[0;34m\u001b[0m\u001b[0;34m\u001b[0m\u001b[0m\n\u001b[1;32m    121\u001b[0m             \u001b[0;31m# `keras.config.disable_traceback_filtering()`\u001b[0m\u001b[0;34m\u001b[0m\u001b[0;34m\u001b[0m\u001b[0m\n\u001b[0;32m--> 122\u001b[0;31m             \u001b[0;32mraise\u001b[0m \u001b[0me\u001b[0m\u001b[0;34m.\u001b[0m\u001b[0mwith_traceback\u001b[0m\u001b[0;34m(\u001b[0m\u001b[0mfiltered_tb\u001b[0m\u001b[0;34m)\u001b[0m \u001b[0;32mfrom\u001b[0m \u001b[0;32mNone\u001b[0m\u001b[0;34m\u001b[0m\u001b[0;34m\u001b[0m\u001b[0m\n\u001b[0m\u001b[1;32m    123\u001b[0m         \u001b[0;32mfinally\u001b[0m\u001b[0;34m:\u001b[0m\u001b[0;34m\u001b[0m\u001b[0;34m\u001b[0m\u001b[0m\n\u001b[1;32m    124\u001b[0m             \u001b[0;32mdel\u001b[0m \u001b[0mfiltered_tb\u001b[0m\u001b[0;34m\u001b[0m\u001b[0;34m\u001b[0m\u001b[0m\n",
            "\u001b[0;31mValueError\u001b[0m: Exception encountered when calling Sequential.call().\n\n\u001b[1mCannot take the length of shape with unknown rank.\u001b[0m\n\nArguments received by Sequential.call():\n  • inputs=tf.Tensor(shape=<unknown>, dtype=int32)\n  • training=False\n  • mask=None"
          ]
        }
      ]
    },
    {
      "cell_type": "code",
      "source": [
        "model = Sequential([\n",
        "    Embedding(50,10, input_length=5),  # input_length is 5\n",
        "])\n",
        "\n",
        "model.compile(optimizer='adam', loss='mse')\n",
        "\n",
        "# Predict on the entire batch (embeddedData shape is [7, 5])\n",
        "predictions = model.predict(embeddedData)\n",
        "print(predictions)"
      ],
      "metadata": {
        "colab": {
          "base_uri": "https://localhost:8080/"
        },
        "id": "5eKmfZrQMj3O",
        "outputId": "e9e58b08-884c-458d-cb77-b3ce1cbaa5dd"
      },
      "execution_count": 67,
      "outputs": [
        {
          "output_type": "stream",
          "name": "stdout",
          "text": [
            "\u001b[1m1/1\u001b[0m \u001b[32m━━━━━━━━━━━━━━━━━━━━\u001b[0m\u001b[37m\u001b[0m \u001b[1m0s\u001b[0m 98ms/step\n",
            "[[[ 5.49994782e-03 -2.93948185e-02 -4.97806780e-02 -2.96998024e-02\n",
            "    4.50107120e-02  3.19331177e-02 -2.07777750e-02  1.89234652e-02\n",
            "    8.04223120e-04  7.64571503e-03]\n",
            "  [ 1.21782906e-02  7.04080984e-03 -3.23921330e-02  2.48481967e-02\n",
            "    2.45891474e-02 -2.66901255e-02  4.66375239e-02 -2.96068676e-02\n",
            "   -4.61629406e-02  1.37899555e-02]\n",
            "  [-2.93306261e-03 -2.87516844e-02  3.29872631e-02 -1.88846719e-02\n",
            "    4.34825309e-02  3.72433327e-02  2.48941220e-02 -4.60535772e-02\n",
            "   -7.41075724e-04  4.51367013e-02]\n",
            "  [ 1.50449388e-02  4.81467880e-02  8.88109207e-05  7.20869750e-04\n",
            "   -4.45554145e-02 -4.54585217e-02  2.91471221e-02 -1.86095126e-02\n",
            "   -4.50902060e-03 -1.21852867e-02]\n",
            "  [-3.94284837e-02 -4.06398177e-02 -1.75236948e-02  1.62737034e-02\n",
            "    1.78850815e-03  2.79423632e-02 -3.58697064e-02  2.93415822e-02\n",
            "   -3.12553421e-02  4.39211242e-02]]\n",
            "\n",
            " [[ 5.49994782e-03 -2.93948185e-02 -4.97806780e-02 -2.96998024e-02\n",
            "    4.50107120e-02  3.19331177e-02 -2.07777750e-02  1.89234652e-02\n",
            "    8.04223120e-04  7.64571503e-03]\n",
            "  [ 1.21782906e-02  7.04080984e-03 -3.23921330e-02  2.48481967e-02\n",
            "    2.45891474e-02 -2.66901255e-02  4.66375239e-02 -2.96068676e-02\n",
            "   -4.61629406e-02  1.37899555e-02]\n",
            "  [-2.93306261e-03 -2.87516844e-02  3.29872631e-02 -1.88846719e-02\n",
            "    4.34825309e-02  3.72433327e-02  2.48941220e-02 -4.60535772e-02\n",
            "   -7.41075724e-04  4.51367013e-02]\n",
            "  [ 1.50449388e-02  4.81467880e-02  8.88109207e-05  7.20869750e-04\n",
            "   -4.45554145e-02 -4.54585217e-02  2.91471221e-02 -1.86095126e-02\n",
            "   -4.50902060e-03 -1.21852867e-02]\n",
            "  [-4.30477150e-02 -1.66725889e-02  1.50402300e-02 -3.15026864e-02\n",
            "    4.68933247e-02 -3.08928136e-02 -1.32100470e-02 -7.31937960e-03\n",
            "    3.11500765e-02 -2.55858898e-02]]\n",
            "\n",
            " [[ 5.49994782e-03 -2.93948185e-02 -4.97806780e-02 -2.96998024e-02\n",
            "    4.50107120e-02  3.19331177e-02 -2.07777750e-02  1.89234652e-02\n",
            "    8.04223120e-04  7.64571503e-03]\n",
            "  [ 1.21782906e-02  7.04080984e-03 -3.23921330e-02  2.48481967e-02\n",
            "    2.45891474e-02 -2.66901255e-02  4.66375239e-02 -2.96068676e-02\n",
            "   -4.61629406e-02  1.37899555e-02]\n",
            "  [-4.07345183e-02 -3.12090646e-02 -9.37985256e-03 -2.42410433e-02\n",
            "    4.07944657e-02  3.81258167e-02  2.54299678e-02  1.25586651e-02\n",
            "   -2.84159426e-02  3.30125205e-02]\n",
            "  [ 1.50449388e-02  4.81467880e-02  8.88109207e-05  7.20869750e-04\n",
            "   -4.45554145e-02 -4.54585217e-02  2.91471221e-02 -1.86095126e-02\n",
            "   -4.50902060e-03 -1.21852867e-02]\n",
            "  [ 7.83004612e-03 -2.58515719e-02  2.36452110e-02  4.98381518e-02\n",
            "    1.66098140e-02 -2.15764400e-02 -2.92981267e-02  7.21434504e-03\n",
            "   -2.29232796e-02 -4.88972180e-02]]\n",
            "\n",
            " [[-2.88484581e-02 -3.38810831e-02  3.33389305e-02 -4.55315374e-02\n",
            "    3.90797146e-02  3.72395627e-02 -1.76700465e-02 -2.13809498e-02\n",
            "   -4.67765108e-02  2.42984332e-02]\n",
            "  [ 3.22032310e-02 -2.42241509e-02 -2.32306011e-02 -2.21679360e-03\n",
            "    4.19406407e-02 -3.72502580e-02 -3.18254717e-02  1.66955628e-02\n",
            "    1.08378530e-02  2.50745751e-02]\n",
            "  [ 5.35921007e-03 -3.85117419e-02 -2.74646636e-02  1.38641335e-02\n",
            "    4.50392030e-02 -3.51740941e-02 -3.57676260e-02 -2.39799861e-02\n",
            "    2.43870728e-02  1.43758915e-02]\n",
            "  [ 3.54213379e-02 -2.47988589e-02 -2.41924413e-02  1.19875669e-02\n",
            "    3.17297094e-02 -4.96183522e-02  7.12052733e-03  3.48415114e-02\n",
            "    2.58341320e-02  3.96189578e-02]\n",
            "  [-8.86014849e-03  3.26435678e-02 -9.03844833e-04  3.45534123e-02\n",
            "    1.38794221e-02 -3.88626680e-02 -2.87573691e-02 -3.79978493e-03\n",
            "    1.57964937e-02 -3.54801491e-03]]\n",
            "\n",
            " [[-2.88484581e-02 -3.38810831e-02  3.33389305e-02 -4.55315374e-02\n",
            "    3.90797146e-02  3.72395627e-02 -1.76700465e-02 -2.13809498e-02\n",
            "   -4.67765108e-02  2.42984332e-02]\n",
            "  [ 3.22032310e-02 -2.42241509e-02 -2.32306011e-02 -2.21679360e-03\n",
            "    4.19406407e-02 -3.72502580e-02 -3.18254717e-02  1.66955628e-02\n",
            "    1.08378530e-02  2.50745751e-02]\n",
            "  [ 5.35921007e-03 -3.85117419e-02 -2.74646636e-02  1.38641335e-02\n",
            "    4.50392030e-02 -3.51740941e-02 -3.57676260e-02 -2.39799861e-02\n",
            "    2.43870728e-02  1.43758915e-02]\n",
            "  [ 3.54213379e-02 -2.47988589e-02 -2.41924413e-02  1.19875669e-02\n",
            "    3.17297094e-02 -4.96183522e-02  7.12052733e-03  3.48415114e-02\n",
            "    2.58341320e-02  3.96189578e-02]\n",
            "  [ 1.35079771e-03 -1.93848610e-02 -4.87653501e-02  1.14493594e-02\n",
            "    2.39322335e-03 -7.65403360e-03  3.03231217e-02 -5.86592034e-03\n",
            "    3.54473330e-02  2.60556601e-02]]\n",
            "\n",
            " [[ 1.88065879e-02  1.75137855e-02 -4.62736376e-02  3.11013311e-03\n",
            "    3.30953859e-02 -3.58982906e-02  7.77292252e-03  3.92191298e-02\n",
            "   -8.98180157e-03 -1.01701133e-02]\n",
            "  [ 1.21782906e-02  7.04080984e-03 -3.23921330e-02  2.48481967e-02\n",
            "    2.45891474e-02 -2.66901255e-02  4.66375239e-02 -2.96068676e-02\n",
            "   -4.61629406e-02  1.37899555e-02]\n",
            "  [-4.73125689e-02 -2.14600693e-02 -3.58954668e-02 -6.66046143e-03\n",
            "    1.13940835e-02 -9.83971357e-03 -1.17928274e-02 -1.81428678e-02\n",
            "    1.40663423e-02 -4.20208797e-02]\n",
            "  [ 1.50449388e-02  4.81467880e-02  8.88109207e-05  7.20869750e-04\n",
            "   -4.45554145e-02 -4.54585217e-02  2.91471221e-02 -1.86095126e-02\n",
            "   -4.50902060e-03 -1.21852867e-02]\n",
            "  [-3.58197317e-02  4.06012572e-02 -1.11023895e-02  2.57808678e-02\n",
            "   -1.67688355e-02 -7.53284618e-03  4.36070450e-02  6.99347258e-03\n",
            "    1.34552829e-02  4.92690913e-02]]\n",
            "\n",
            " [[ 5.49994782e-03 -2.93948185e-02 -4.97806780e-02 -2.96998024e-02\n",
            "    4.50107120e-02  3.19331177e-02 -2.07777750e-02  1.89234652e-02\n",
            "    8.04223120e-04  7.64571503e-03]\n",
            "  [-4.46630828e-02 -3.58584635e-02 -4.58160751e-02 -2.40719449e-02\n",
            "    1.50754340e-02 -1.03046671e-02  8.11307505e-03 -3.65571864e-02\n",
            "    4.21805046e-02 -1.15074292e-02]\n",
            "  [-2.93306261e-03 -2.87516844e-02  3.29872631e-02 -1.88846719e-02\n",
            "    4.34825309e-02  3.72433327e-02  2.48941220e-02 -4.60535772e-02\n",
            "   -7.41075724e-04  4.51367013e-02]\n",
            "  [-2.59018075e-02  4.64503281e-02  4.51158173e-02  3.32720205e-03\n",
            "   -1.30752809e-02 -4.96596582e-02 -7.48861581e-04 -4.15207371e-02\n",
            "   -1.78714395e-02 -2.23970897e-02]\n",
            "  [ 3.54213379e-02 -2.47988589e-02 -2.41924413e-02  1.19875669e-02\n",
            "    3.17297094e-02 -4.96183522e-02  7.12052733e-03  3.48415114e-02\n",
            "    2.58341320e-02  3.96189578e-02]]]\n"
          ]
        }
      ]
    },
    {
      "cell_type": "code",
      "source": [],
      "metadata": {
        "id": "FvhN-wH1OudW"
      },
      "execution_count": null,
      "outputs": []
    }
  ]
}