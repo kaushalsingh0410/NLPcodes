{
 "cells": [
  {
   "cell_type": "code",
   "execution_count": 1,
   "id": "1118d335-15ef-48ff-8261-6abcd25ba06f",
   "metadata": {},
   "outputs": [
    {
     "name": "stdout",
     "output_type": "stream",
     "text": [
      "Ritu\n"
     ]
    }
   ],
   "source": [
    "print('Ritu')"
   ]
  },
  {
   "cell_type": "code",
   "execution_count": 2,
   "id": "f162458b-8a90-487a-87f6-8d3ef0293ab1",
   "metadata": {},
   "outputs": [],
   "source": [
    "import re\n",
    "import pandas as pd"
   ]
  },
  {
   "cell_type": "code",
   "execution_count": 3,
   "id": "9e50061e-456e-478f-9412-4d07a9b508d6",
   "metadata": {},
   "outputs": [
    {
     "data": {
      "text/html": [
       "<div>\n",
       "<style scoped>\n",
       "    .dataframe tbody tr th:only-of-type {\n",
       "        vertical-align: middle;\n",
       "    }\n",
       "\n",
       "    .dataframe tbody tr th {\n",
       "        vertical-align: top;\n",
       "    }\n",
       "\n",
       "    .dataframe thead th {\n",
       "        text-align: right;\n",
       "    }\n",
       "</style>\n",
       "<table border=\"1\" class=\"dataframe\">\n",
       "  <thead>\n",
       "    <tr style=\"text-align: right;\">\n",
       "      <th></th>\n",
       "      <th>text</th>\n",
       "      <th>label</th>\n",
       "    </tr>\n",
       "  </thead>\n",
       "  <tbody>\n",
       "    <tr>\n",
       "      <th>0</th>\n",
       "      <td>I grew up (b. 1965) watching and loving the Th...</td>\n",
       "      <td>0</td>\n",
       "    </tr>\n",
       "    <tr>\n",
       "      <th>1</th>\n",
       "      <td>When I put this movie in my DVD player, and sa...</td>\n",
       "      <td>0</td>\n",
       "    </tr>\n",
       "    <tr>\n",
       "      <th>2</th>\n",
       "      <td>Why do people who do not know what a particula...</td>\n",
       "      <td>0</td>\n",
       "    </tr>\n",
       "    <tr>\n",
       "      <th>3</th>\n",
       "      <td>Even though I have great interest in Biblical ...</td>\n",
       "      <td>0</td>\n",
       "    </tr>\n",
       "    <tr>\n",
       "      <th>4</th>\n",
       "      <td>Im a die hard Dads Army fan and nothing will e...</td>\n",
       "      <td>1</td>\n",
       "    </tr>\n",
       "  </tbody>\n",
       "</table>\n",
       "</div>"
      ],
      "text/plain": [
       "                                                text  label\n",
       "0  I grew up (b. 1965) watching and loving the Th...      0\n",
       "1  When I put this movie in my DVD player, and sa...      0\n",
       "2  Why do people who do not know what a particula...      0\n",
       "3  Even though I have great interest in Biblical ...      0\n",
       "4  Im a die hard Dads Army fan and nothing will e...      1"
      ]
     },
     "execution_count": 3,
     "metadata": {},
     "output_type": "execute_result"
    }
   ],
   "source": [
    "df = pd.read_csv('imdb.csv')\n",
    "df.head()"
   ]
  },
  {
   "cell_type": "code",
   "execution_count": 4,
   "id": "2e888967-9920-4940-b28a-22220d63ca35",
   "metadata": {},
   "outputs": [
    {
     "name": "stdout",
     "output_type": "stream",
     "text": [
      "<class 'pandas.core.frame.DataFrame'>\n",
      "RangeIndex: 45000 entries, 0 to 44999\n",
      "Data columns (total 2 columns):\n",
      " #   Column  Non-Null Count  Dtype \n",
      "---  ------  --------------  ----- \n",
      " 0   text    45000 non-null  object\n",
      " 1   label   45000 non-null  int64 \n",
      "dtypes: int64(1), object(1)\n",
      "memory usage: 703.3+ KB\n"
     ]
    }
   ],
   "source": [
    "df.info()"
   ]
  },
  {
   "cell_type": "code",
   "execution_count": 5,
   "id": "b90e1162-7e49-4f15-9b47-77d90cc19258",
   "metadata": {},
   "outputs": [
    {
     "data": {
      "text/html": [
       "<div>\n",
       "<style scoped>\n",
       "    .dataframe tbody tr th:only-of-type {\n",
       "        vertical-align: middle;\n",
       "    }\n",
       "\n",
       "    .dataframe tbody tr th {\n",
       "        vertical-align: top;\n",
       "    }\n",
       "\n",
       "    .dataframe thead th {\n",
       "        text-align: right;\n",
       "    }\n",
       "</style>\n",
       "<table border=\"1\" class=\"dataframe\">\n",
       "  <thead>\n",
       "    <tr style=\"text-align: right;\">\n",
       "      <th></th>\n",
       "      <th>text</th>\n",
       "      <th>label</th>\n",
       "    </tr>\n",
       "  </thead>\n",
       "  <tbody>\n",
       "    <tr>\n",
       "      <th>0</th>\n",
       "      <td>I grew up (b. 1965) watching and loving the Th...</td>\n",
       "      <td>0</td>\n",
       "    </tr>\n",
       "    <tr>\n",
       "      <th>1</th>\n",
       "      <td>When I put this movie in my DVD player, and sa...</td>\n",
       "      <td>0</td>\n",
       "    </tr>\n",
       "    <tr>\n",
       "      <th>2</th>\n",
       "      <td>Why do people who do not know what a particula...</td>\n",
       "      <td>0</td>\n",
       "    </tr>\n",
       "    <tr>\n",
       "      <th>3</th>\n",
       "      <td>Even though I have great interest in Biblical ...</td>\n",
       "      <td>0</td>\n",
       "    </tr>\n",
       "    <tr>\n",
       "      <th>4</th>\n",
       "      <td>Im a die hard Dads Army fan and nothing will e...</td>\n",
       "      <td>1</td>\n",
       "    </tr>\n",
       "  </tbody>\n",
       "</table>\n",
       "</div>"
      ],
      "text/plain": [
       "                                                text  label\n",
       "0  I grew up (b. 1965) watching and loving the Th...      0\n",
       "1  When I put this movie in my DVD player, and sa...      0\n",
       "2  Why do people who do not know what a particula...      0\n",
       "3  Even though I have great interest in Biblical ...      0\n",
       "4  Im a die hard Dads Army fan and nothing will e...      1"
      ]
     },
     "execution_count": 5,
     "metadata": {},
     "output_type": "execute_result"
    }
   ],
   "source": [
    "df.head()"
   ]
  },
  {
   "cell_type": "markdown",
   "id": "b88bc764-9043-44dd-b341-bc572e26fd1c",
   "metadata": {},
   "source": [
    "# Remove HTML"
   ]
  },
  {
   "cell_type": "code",
   "execution_count": 6,
   "id": "c7ff4497-c22b-43a7-a259-d60f83fd2949",
   "metadata": {},
   "outputs": [
    {
     "data": {
      "text/plain": [
       "\"When I put this movie in my DVD player, and sat down with a coke and some chips, I had some expectations. I was hoping that this movie would contain some of the strong-points of the first movie: Awsome animation, good flowing story, excellent voice cast, funny comedy and a kick-ass soundtrack. But, to my disappointment, not any of this is to be found in Atlantis: Milo's Return. Had I read some reviews first, I might not have been so let down. The following paragraph will be directed to those who have seen the first movie, and who enjoyed it primarily for the points mentioned.<br /><br />When the first scene appears, your in for a shock if you just picked Atlantis: Milo's Return from the display-case at your local videoshop (or whatever), and had the expectations I had. The music feels as a bad imitation of the first movie, and the voice cast has been replaced by a not so fitting one. (With the exception of a few characters, like the voice of Sweet). The actual drawings isnt that bad, but the animation in particular is a sad sight. The storyline is also pretty weak, as its more like three episodes of Schooby-Doo than the single adventurous story we got the last time. But dont misunderstand, it's not very good Schooby-Doo episodes. I didnt laugh a single time, although I might have sniggered once or twice.<br /><br />To the audience who haven't seen the first movie, or don't especially care for a similar sequel, here is a fast review of this movie as a stand-alone product: If you liked schooby-doo, you might like this movie. If you didn't, you could still enjoy this movie if you have nothing else to do. And I suspect it might be a good kids movie, but I wouldn't know. It might have been better if Milo's Return had been a three-episode series on a cartoon channel, or on breakfast TV.\""
      ]
     },
     "execution_count": 6,
     "metadata": {},
     "output_type": "execute_result"
    }
   ],
   "source": [
    "df['text'][1]"
   ]
  },
  {
   "cell_type": "code",
   "execution_count": 7,
   "id": "ad17d1b0-06ba-4b50-8802-f37ca070d36d",
   "metadata": {},
   "outputs": [],
   "source": [
    "df.text = df.text.str.lower()"
   ]
  },
  {
   "cell_type": "code",
   "execution_count": 8,
   "id": "de2507d0-9c61-45e8-8e0d-2602868098a6",
   "metadata": {},
   "outputs": [
    {
     "data": {
      "text/plain": [
       "\"when i put this movie in my dvd player, and sat down with a coke and some chips, i had some expectations. i was hoping that this movie would contain some of the strong-points of the first movie: awsome animation, good flowing story, excellent voice cast, funny comedy and a kick-ass soundtrack. but, to my disappointment, not any of this is to be found in atlantis: milo's return. had i read some reviews first, i might not have been so let down. the following paragraph will be directed to those who have seen the first movie, and who enjoyed it primarily for the points mentioned.<br /><br />when the first scene appears, your in for a shock if you just picked atlantis: milo's return from the display-case at your local videoshop (or whatever), and had the expectations i had. the music feels as a bad imitation of the first movie, and the voice cast has been replaced by a not so fitting one. (with the exception of a few characters, like the voice of sweet). the actual drawings isnt that bad, but the animation in particular is a sad sight. the storyline is also pretty weak, as its more like three episodes of schooby-doo than the single adventurous story we got the last time. but dont misunderstand, it's not very good schooby-doo episodes. i didnt laugh a single time, although i might have sniggered once or twice.<br /><br />to the audience who haven't seen the first movie, or don't especially care for a similar sequel, here is a fast review of this movie as a stand-alone product: if you liked schooby-doo, you might like this movie. if you didn't, you could still enjoy this movie if you have nothing else to do. and i suspect it might be a good kids movie, but i wouldn't know. it might have been better if milo's return had been a three-episode series on a cartoon channel, or on breakfast tv.\""
      ]
     },
     "execution_count": 8,
     "metadata": {},
     "output_type": "execute_result"
    }
   ],
   "source": [
    "str = df.text[1]\n",
    "str"
   ]
  },
  {
   "cell_type": "code",
   "execution_count": 9,
   "id": "e4d1709f-c7c5-4e7e-9e6f-1179c7cfcfc6",
   "metadata": {},
   "outputs": [
    {
     "data": {
      "text/plain": [
       "['<br />', '<br />', '<br />', '<br />']"
      ]
     },
     "execution_count": 9,
     "metadata": {},
     "output_type": "execute_result"
    }
   ],
   "source": [
    "re.findall(r'<[^>]*>',str)"
   ]
  },
  {
   "cell_type": "code",
   "execution_count": 10,
   "id": "598186ca-5ba4-4bc5-8f6a-f4f1db122079",
   "metadata": {},
   "outputs": [
    {
     "data": {
      "text/plain": [
       "\"when i put this movie in my dvd player, and sat down with a coke and some chips, i had some expectations. i was hoping that this movie would contain some of the strong-points of the first movie: awsome animation, good flowing story, excellent voice cast, funny comedy and a kick-ass soundtrack. but, to my disappointment, not any of this is to be found in atlantis: milo's return. had i read some reviews first, i might not have been so let down. the following paragraph will be directed to those who have seen the first movie, and who enjoyed it primarily for the points mentioned.when the first scene appears, your in for a shock if you just picked atlantis: milo's return from the display-case at your local videoshop (or whatever), and had the expectations i had. the music feels as a bad imitation of the first movie, and the voice cast has been replaced by a not so fitting one. (with the exception of a few characters, like the voice of sweet). the actual drawings isnt that bad, but the animation in particular is a sad sight. the storyline is also pretty weak, as its more like three episodes of schooby-doo than the single adventurous story we got the last time. but dont misunderstand, it's not very good schooby-doo episodes. i didnt laugh a single time, although i might have sniggered once or twice.to the audience who haven't seen the first movie, or don't especially care for a similar sequel, here is a fast review of this movie as a stand-alone product: if you liked schooby-doo, you might like this movie. if you didn't, you could still enjoy this movie if you have nothing else to do. and i suspect it might be a good kids movie, but i wouldn't know. it might have been better if milo's return had been a three-episode series on a cartoon channel, or on breakfast tv.\""
      ]
     },
     "execution_count": 10,
     "metadata": {},
     "output_type": "execute_result"
    }
   ],
   "source": [
    "def remove_html(str):\n",
    "    return re.sub(r'<[^>]*>','',str)\n",
    "remove_html(str)"
   ]
  },
  {
   "cell_type": "code",
   "execution_count": 11,
   "id": "a6d821d0-943a-4ffd-9a70-302e24dc2a12",
   "metadata": {},
   "outputs": [],
   "source": [
    "df.text = df.text.apply(remove_html)"
   ]
  },
  {
   "cell_type": "code",
   "execution_count": 12,
   "id": "08f67154-6708-47e7-9b26-339a4172c889",
   "metadata": {},
   "outputs": [
    {
     "data": {
      "text/plain": [
       "\"when i put this movie in my dvd player, and sat down with a coke and some chips, i had some expectations. i was hoping that this movie would contain some of the strong-points of the first movie: awsome animation, good flowing story, excellent voice cast, funny comedy and a kick-ass soundtrack. but, to my disappointment, not any of this is to be found in atlantis: milo's return. had i read some reviews first, i might not have been so let down. the following paragraph will be directed to those who have seen the first movie, and who enjoyed it primarily for the points mentioned.when the first scene appears, your in for a shock if you just picked atlantis: milo's return from the display-case at your local videoshop (or whatever), and had the expectations i had. the music feels as a bad imitation of the first movie, and the voice cast has been replaced by a not so fitting one. (with the exception of a few characters, like the voice of sweet). the actual drawings isnt that bad, but the animation in particular is a sad sight. the storyline is also pretty weak, as its more like three episodes of schooby-doo than the single adventurous story we got the last time. but dont misunderstand, it's not very good schooby-doo episodes. i didnt laugh a single time, although i might have sniggered once or twice.to the audience who haven't seen the first movie, or don't especially care for a similar sequel, here is a fast review of this movie as a stand-alone product: if you liked schooby-doo, you might like this movie. if you didn't, you could still enjoy this movie if you have nothing else to do. and i suspect it might be a good kids movie, but i wouldn't know. it might have been better if milo's return had been a three-episode series on a cartoon channel, or on breakfast tv.\""
      ]
     },
     "execution_count": 12,
     "metadata": {},
     "output_type": "execute_result"
    }
   ],
   "source": [
    "df.text[1]"
   ]
  },
  {
   "cell_type": "code",
   "execution_count": 13,
   "id": "8559d7b5-122d-4f83-830c-f0921b07f1d6",
   "metadata": {},
   "outputs": [
    {
     "data": {
      "text/plain": [
       "\"when i put this movie in my dvd player, and sat down with a coke and some chips, i had some expectations. i was hoping that this movie would contain some of the strong-points of the first movie: awsome animation, good flowing story, excellent voice cast, funny comedy and a kick-ass soundtrack. but, to my disappointment, not any of this is to be found in atlantis: milo's return. had i read some reviews first, i might not have been so let down. the following paragraph will be directed to those who have seen the first movie, and who enjoyed it primarily for the points mentioned.<br /><br />when the first scene appears, your in for a shock if you just picked atlantis: milo's return from the display-case at your local videoshop (or whatever), and had the expectations i had. the music feels as a bad imitation of the first movie, and the voice cast has been replaced by a not so fitting one. (with the exception of a few characters, like the voice of sweet). the actual drawings isnt that bad, but the animation in particular is a sad sight. the storyline is also pretty weak, as its more like three episodes of schooby-doo than the single adventurous story we got the last time. but dont misunderstand, it's not very good schooby-doo episodes. i didnt laugh a single time, although i might have sniggered once or twice.<br /><br />to the audience who haven't seen the first movie, or don't especially care for a similar sequel, here is a fast review of this movie as a stand-alone product: if you liked schooby-doo, you might like this movie. if you didn't, you could still enjoy this movie if you have nothing else to do. and i suspect it might be a good kids movie, but i wouldn't know. it might have been better if milo's return had been a three-episode series on a cartoon channel, or on breakfast tv.\""
      ]
     },
     "execution_count": 13,
     "metadata": {},
     "output_type": "execute_result"
    }
   ],
   "source": [
    "str"
   ]
  },
  {
   "cell_type": "code",
   "execution_count": 14,
   "id": "2f0662d0-a0e4-4f36-9ad9-cc2d01d6bb7f",
   "metadata": {},
   "outputs": [
    {
     "data": {
      "text/plain": [
       "['<br />', '<br />', '<br />', '<br />']"
      ]
     },
     "execution_count": 14,
     "metadata": {},
     "output_type": "execute_result"
    }
   ],
   "source": [
    "re.findall(r'<[^>]*>',str)"
   ]
  },
  {
   "cell_type": "code",
   "execution_count": 15,
   "id": "634ce3e1-54cb-45c9-a717-86bb8f4e3ca2",
   "metadata": {},
   "outputs": [
    {
     "data": {
      "text/plain": [
       "['<br />', '<br />', '<br />', '<br />']"
      ]
     },
     "execution_count": 15,
     "metadata": {},
     "output_type": "execute_result"
    }
   ],
   "source": [
    "re.findall(r'<.*?>',str)"
   ]
  },
  {
   "cell_type": "markdown",
   "id": "515f37d2-8f58-4e82-bc74-d46f381d5970",
   "metadata": {},
   "source": [
    "# Remove links URLs"
   ]
  },
  {
   "cell_type": "code",
   "execution_count": 16,
   "id": "1696133f-d516-4fb6-a8e3-6e4d5ab14dde",
   "metadata": {},
   "outputs": [],
   "source": [
    "text1 = 'my nokri profile https://www.naukri.com/mnjuser/homepage'\n",
    "text2 = 'my linked profile http://www.linkedin.com/feed/'\n",
    "text3 = 'whatsapp www.web.whatsapp.com/'\n",
    "text4 = 'spotify https://open.spotify.com/search/waja%20tum%20ho my music playlist'"
   ]
  },
  {
   "cell_type": "code",
   "execution_count": 17,
   "id": "8880e472-2f25-4fcc-b3da-1440b660c8c5",
   "metadata": {},
   "outputs": [
    {
     "data": {
      "text/plain": [
       "'my nokri profile'"
      ]
     },
     "execution_count": 17,
     "metadata": {},
     "output_type": "execute_result"
    }
   ],
   "source": [
    "re.sub(r' ?https?://\\S*| ?www\\S*','',text1)"
   ]
  },
  {
   "cell_type": "markdown",
   "id": "13599e9e-6e1d-4aa6-8dfe-07fbcb5960bb",
   "metadata": {},
   "source": [
    "# Remove Punctuation"
   ]
  },
  {
   "cell_type": "code",
   "execution_count": 18,
   "id": "912427ef-e9c1-4dac-91d3-744b8d08c9f1",
   "metadata": {},
   "outputs": [
    {
     "name": "stdout",
     "output_type": "stream",
     "text": [
      "!\"#$%&'()*+,-./:;<=>?@[\\]^_`{|}~\n"
     ]
    },
    {
     "data": {
      "text/plain": [
       "'string with punctuation'"
      ]
     },
     "execution_count": 18,
     "metadata": {},
     "output_type": "execute_result"
    }
   ],
   "source": [
    "import string\n",
    "pun = string.punctuation\n",
    "print(pun)\n",
    "\n",
    "str = 'string with, punctuation!'\n",
    "re.sub(f'[{pun}]','',str)\n",
    "\n"
   ]
  },
  {
   "cell_type": "markdown",
   "id": "f4d8e7b2-1c9d-4cad-9ee0-c3fda6e248ce",
   "metadata": {},
   "source": [
    "# Chat Word treatment"
   ]
  },
  {
   "cell_type": "code",
   "execution_count": 19,
   "id": "61436119-e2cf-4c80-8239-6e00ae5c0efe",
   "metadata": {},
   "outputs": [],
   "source": [
    "words = '''AFAIK=As Far As I Know\n",
    "AFK=Away From Keyboard\n",
    "ASAP=As Soon As Possible\n",
    "ATK=At The Keyboard\n",
    "ATM=At The Moment\n",
    "A3=Anytime, Anywhere, Anyplace\n",
    "BAK=Back At Keyboard\n",
    "BBL=Be Back Later\n",
    "BBS=Be Back Soon\n",
    "BFN=Bye For Now\n",
    "B4N=Bye For Now\n",
    "BRB=Be Right Back\n",
    "BRT=Be Right There\n",
    "BTW=By The Way\n",
    "B4=Before\n",
    "B4N=Bye For Now\n",
    "CU=See You\n",
    "CUL8R=See You Later\n",
    "CYA=See You\n",
    "FAQ=Frequently Asked Questions\n",
    "FC=Fingers Crossed\n",
    "FWIW=For What It's Worth\n",
    "FYI=For Your Information\n",
    "GAL=Get A Life\n",
    "GG=Good Game\n",
    "GN=Good Night\n",
    "GMTA=Great Minds Think Alike\n",
    "GR8=Great!\n",
    "G9=Genius\n",
    "IC=I See\n",
    "ICQ=I Seek you (also a chat program)\n",
    "ILU=I Love You\n",
    "IMHO=In My Honest/Humble Opinion\n",
    "IMO=In My Opinion\n",
    "IOW=In Other Words\n",
    "IRL=In Real Life\n",
    "KISS=Keep It Simple, Stupid\n",
    "LDR=Long Distance Relationship\n",
    "LMAO=Laugh My A.. Off\n",
    "LOL=Laughing Out Loud\n",
    "LTNS=Long Time No See\n",
    "L8R=Later\n",
    "MTE=My Thoughts Exactly\n",
    "M8=Mate\n",
    "NRN=No Reply Necessary\n",
    "OIC=Oh I See\n",
    "PITA=Pain In The A..\n",
    "PRT=Party\n",
    "PRW=Parents Are Watching\n",
    "QPSA?\tQue Pasa?\n",
    "ROFL=Rolling On The Floor Laughing\n",
    "ROFLOL=Rolling On The Floor Laughing Out Loud\n",
    "ROTFLMAO=Rolling On The Floor Laughing My A.. Off\n",
    "SK8=Skate\n",
    "STATS=Your sex and age\n",
    "ASL=Age, Sex, Location\n",
    "THX=Thank You\n",
    "TTFN=Ta-Ta For Now!\n",
    "TTYL=Talk To You Later\n",
    "U=You\n",
    "U2=You Too\n",
    "U4E=Yours For Ever\n",
    "WB=Welcome Back\n",
    "WTF=What The F...\n",
    "WTG=Way To Go!\n",
    "WUF=Where Are You From?\n",
    "W8=Wait...\n",
    "7K=Sick:-D Laugher\n",
    "TFW – That feeling when. TFW internet slang often goes in a caption to an image.\n",
    "MFW – My face when\n",
    "MRW – My reaction when\n",
    "IFYP – I feel your pain\n",
    "LOL – Laughing out loud\n",
    "TNTL – Trying not to laugh\n",
    "JK – Just kidding\n",
    "IDC – I don’t care\n",
    "ILY – I love you\n",
    "IMU – I miss you\n",
    "ADIH – Another day in hell\n",
    "IDC – I don’t care\n",
    "ZZZ – Sleeping, bored, tired\n",
    "WYWH – Wish you were here\n",
    "TIME – Tears in my eyes\n",
    "BAE – Before anyone else\n",
    "FIMH – Forever in my heart\n",
    "BSAAW – Big smile and a wink\n",
    "BWL – Bursting with laughter\n",
    "LMAO – Laughing my a** off\n",
    "BFF: Best friends forever\n",
    "CSL – Can’t stop laughing'''.replace(' – ','=').replace('\\t','=').replace(': ','=').split('\\n')"
   ]
  },
  {
   "cell_type": "code",
   "execution_count": 20,
   "id": "213a7c26-6eee-4b03-b689-fa855df34e39",
   "metadata": {},
   "outputs": [],
   "source": [
    "chart_words = {}\n",
    "for i in words:\n",
    "    k,v = i.split('=')\n",
    "    chart_words[k] = v"
   ]
  },
  {
   "cell_type": "code",
   "execution_count": 21,
   "id": "c768b15c-938d-4753-974c-a331a335a4f3",
   "metadata": {},
   "outputs": [
    {
     "data": {
      "text/plain": [
       "{'AFAIK': 'As Far As I Know',\n",
       " 'AFK': 'Away From Keyboard',\n",
       " 'ASAP': 'As Soon As Possible',\n",
       " 'ATK': 'At The Keyboard',\n",
       " 'ATM': 'At The Moment',\n",
       " 'A3': 'Anytime, Anywhere, Anyplace',\n",
       " 'BAK': 'Back At Keyboard',\n",
       " 'BBL': 'Be Back Later',\n",
       " 'BBS': 'Be Back Soon',\n",
       " 'BFN': 'Bye For Now',\n",
       " 'B4N': 'Bye For Now',\n",
       " 'BRB': 'Be Right Back',\n",
       " 'BRT': 'Be Right There',\n",
       " 'BTW': 'By The Way',\n",
       " 'B4': 'Before',\n",
       " 'CU': 'See You',\n",
       " 'CUL8R': 'See You Later',\n",
       " 'CYA': 'See You',\n",
       " 'FAQ': 'Frequently Asked Questions',\n",
       " 'FC': 'Fingers Crossed',\n",
       " 'FWIW': \"For What It's Worth\",\n",
       " 'FYI': 'For Your Information',\n",
       " 'GAL': 'Get A Life',\n",
       " 'GG': 'Good Game',\n",
       " 'GN': 'Good Night',\n",
       " 'GMTA': 'Great Minds Think Alike',\n",
       " 'GR8': 'Great!',\n",
       " 'G9': 'Genius',\n",
       " 'IC': 'I See',\n",
       " 'ICQ': 'I Seek you (also a chat program)',\n",
       " 'ILU': 'I Love You',\n",
       " 'IMHO': 'In My Honest/Humble Opinion',\n",
       " 'IMO': 'In My Opinion',\n",
       " 'IOW': 'In Other Words',\n",
       " 'IRL': 'In Real Life',\n",
       " 'KISS': 'Keep It Simple, Stupid',\n",
       " 'LDR': 'Long Distance Relationship',\n",
       " 'LMAO': 'Laughing my a** off',\n",
       " 'LOL': 'Laughing out loud',\n",
       " 'LTNS': 'Long Time No See',\n",
       " 'L8R': 'Later',\n",
       " 'MTE': 'My Thoughts Exactly',\n",
       " 'M8': 'Mate',\n",
       " 'NRN': 'No Reply Necessary',\n",
       " 'OIC': 'Oh I See',\n",
       " 'PITA': 'Pain In The A..',\n",
       " 'PRT': 'Party',\n",
       " 'PRW': 'Parents Are Watching',\n",
       " 'QPSA?': 'Que Pasa?',\n",
       " 'ROFL': 'Rolling On The Floor Laughing',\n",
       " 'ROFLOL': 'Rolling On The Floor Laughing Out Loud',\n",
       " 'ROTFLMAO': 'Rolling On The Floor Laughing My A.. Off',\n",
       " 'SK8': 'Skate',\n",
       " 'STATS': 'Your sex and age',\n",
       " 'ASL': 'Age, Sex, Location',\n",
       " 'THX': 'Thank You',\n",
       " 'TTFN': 'Ta-Ta For Now!',\n",
       " 'TTYL': 'Talk To You Later',\n",
       " 'U': 'You',\n",
       " 'U2': 'You Too',\n",
       " 'U4E': 'Yours For Ever',\n",
       " 'WB': 'Welcome Back',\n",
       " 'WTF': 'What The F...',\n",
       " 'WTG': 'Way To Go!',\n",
       " 'WUF': 'Where Are You From?',\n",
       " 'W8': 'Wait...',\n",
       " '7K': 'Sick:-D Laugher',\n",
       " 'TFW': 'That feeling when. TFW internet slang often goes in a caption to an image.',\n",
       " 'MFW': 'My face when',\n",
       " 'MRW': 'My reaction when',\n",
       " 'IFYP': 'I feel your pain',\n",
       " 'TNTL': 'Trying not to laugh',\n",
       " 'JK': 'Just kidding',\n",
       " 'IDC': 'I don’t care',\n",
       " 'ILY': 'I love you',\n",
       " 'IMU': 'I miss you',\n",
       " 'ADIH': 'Another day in hell',\n",
       " 'ZZZ': 'Sleeping, bored, tired',\n",
       " 'WYWH': 'Wish you were here',\n",
       " 'TIME': 'Tears in my eyes',\n",
       " 'BAE': 'Before anyone else',\n",
       " 'FIMH': 'Forever in my heart',\n",
       " 'BSAAW': 'Big smile and a wink',\n",
       " 'BWL': 'Bursting with laughter',\n",
       " 'BFF': 'Best friends forever',\n",
       " 'CSL': 'Can’t stop laughing'}"
      ]
     },
     "execution_count": 21,
     "metadata": {},
     "output_type": "execute_result"
    }
   ],
   "source": [
    "chart_words"
   ]
  },
  {
   "cell_type": "code",
   "execution_count": 22,
   "id": "84b29d64-d28d-4258-9304-f52c5d1cbd2a",
   "metadata": {},
   "outputs": [],
   "source": [
    "text1 = 'IMHO he is the best'\n",
    "text2 = 'FYI delhi is the capital of india'"
   ]
  },
  {
   "cell_type": "code",
   "execution_count": 23,
   "id": "9d0856aa-6d46-4904-a616-4f304c464a6d",
   "metadata": {},
   "outputs": [],
   "source": [
    "def chart_conversion(text):\n",
    "    new_text = []\n",
    "    for i in text.split():\n",
    "        if i in chart_words:\n",
    "            new_text.append(chart_words[i])\n",
    "        else:\n",
    "            new_text.append(i)\n",
    "    return ' '.join(new_text)\n"
   ]
  },
  {
   "cell_type": "code",
   "execution_count": 24,
   "id": "1a8b9f16-7117-450d-8d16-ecd7437d4a54",
   "metadata": {},
   "outputs": [
    {
     "data": {
      "text/plain": [
       "'For Your Information delhi is the capital of india'"
      ]
     },
     "execution_count": 24,
     "metadata": {},
     "output_type": "execute_result"
    }
   ],
   "source": [
    "chart_conversion(text2)"
   ]
  },
  {
   "cell_type": "markdown",
   "id": "6ddd4f8f-7a89-4dd0-9656-50a35aee30bc",
   "metadata": {},
   "source": [
    "# Spelling Correction"
   ]
  },
  {
   "cell_type": "code",
   "execution_count": 25,
   "id": "1f628555-d15c-49f4-bac3-8a67c7029738",
   "metadata": {},
   "outputs": [
    {
     "data": {
      "text/plain": [
       "'hi ritu hoew are you.'"
      ]
     },
     "execution_count": 25,
     "metadata": {},
     "output_type": "execute_result"
    }
   ],
   "source": [
    "text = 'hi ritu hoew are you.'\n",
    "text"
   ]
  },
  {
   "cell_type": "code",
   "execution_count": 26,
   "id": "7eb267e8-ea43-4419-93f2-0ce0a0f3f5e7",
   "metadata": {},
   "outputs": [],
   "source": [
    "from textblob import TextBlob"
   ]
  },
  {
   "cell_type": "code",
   "execution_count": 27,
   "id": "8afbd8d9-5b81-4809-9e12-227dd639000e",
   "metadata": {},
   "outputs": [
    {
     "data": {
      "text/plain": [
       "'hi rite how are you.'"
      ]
     },
     "execution_count": 27,
     "metadata": {},
     "output_type": "execute_result"
    }
   ],
   "source": [
    "text = TextBlob(text)\n",
    "text.correct().string"
   ]
  },
  {
   "cell_type": "markdown",
   "id": "3c582e81-14e8-4566-b971-04b4a1c2f99b",
   "metadata": {},
   "source": [
    "# Remove Stop Words"
   ]
  },
  {
   "cell_type": "code",
   "execution_count": 28,
   "id": "46e9a748-94d3-4188-ac6c-e87627fdc9b3",
   "metadata": {},
   "outputs": [],
   "source": [
    "from nltk.corpus import stopwords\n",
    "stopwords = stopwords.words('english')"
   ]
  },
  {
   "cell_type": "code",
   "execution_count": 46,
   "id": "7ae982a7-ed58-43a0-9d6c-1fe2fd068a65",
   "metadata": {},
   "outputs": [
    {
     "data": {
      "text/plain": [
       "['i',\n",
       " 'me',\n",
       " 'my',\n",
       " 'myself',\n",
       " 'we',\n",
       " 'our',\n",
       " 'ours',\n",
       " 'ourselves',\n",
       " 'you',\n",
       " \"you're\",\n",
       " \"you've\",\n",
       " \"you'll\",\n",
       " \"you'd\",\n",
       " 'your',\n",
       " 'yours',\n",
       " 'yourself',\n",
       " 'yourselves',\n",
       " 'he',\n",
       " 'him',\n",
       " 'his',\n",
       " 'himself',\n",
       " 'she',\n",
       " \"she's\",\n",
       " 'her',\n",
       " 'hers',\n",
       " 'herself',\n",
       " 'it',\n",
       " \"it's\",\n",
       " 'its',\n",
       " 'itself',\n",
       " 'they',\n",
       " 'them',\n",
       " 'their',\n",
       " 'theirs',\n",
       " 'themselves',\n",
       " 'what',\n",
       " 'which',\n",
       " 'who',\n",
       " 'whom',\n",
       " 'this',\n",
       " 'that',\n",
       " \"that'll\",\n",
       " 'these',\n",
       " 'those',\n",
       " 'am',\n",
       " 'is',\n",
       " 'are',\n",
       " 'was',\n",
       " 'were',\n",
       " 'be',\n",
       " 'been',\n",
       " 'being',\n",
       " 'have',\n",
       " 'has',\n",
       " 'had',\n",
       " 'having',\n",
       " 'do',\n",
       " 'does',\n",
       " 'did',\n",
       " 'doing',\n",
       " 'a',\n",
       " 'an',\n",
       " 'the',\n",
       " 'and',\n",
       " 'but',\n",
       " 'if',\n",
       " 'or',\n",
       " 'because',\n",
       " 'as',\n",
       " 'until',\n",
       " 'while',\n",
       " 'of',\n",
       " 'at',\n",
       " 'by',\n",
       " 'for',\n",
       " 'with',\n",
       " 'about',\n",
       " 'against',\n",
       " 'between',\n",
       " 'into',\n",
       " 'through',\n",
       " 'during',\n",
       " 'before',\n",
       " 'after',\n",
       " 'above',\n",
       " 'below',\n",
       " 'to',\n",
       " 'from',\n",
       " 'up',\n",
       " 'down',\n",
       " 'in',\n",
       " 'out',\n",
       " 'on',\n",
       " 'off',\n",
       " 'over',\n",
       " 'under',\n",
       " 'again',\n",
       " 'further',\n",
       " 'then',\n",
       " 'once',\n",
       " 'here',\n",
       " 'there',\n",
       " 'when',\n",
       " 'where',\n",
       " 'why',\n",
       " 'how',\n",
       " 'all',\n",
       " 'any',\n",
       " 'both',\n",
       " 'each',\n",
       " 'few',\n",
       " 'more',\n",
       " 'most',\n",
       " 'other',\n",
       " 'some',\n",
       " 'such',\n",
       " 'no',\n",
       " 'nor',\n",
       " 'not',\n",
       " 'only',\n",
       " 'own',\n",
       " 'same',\n",
       " 'so',\n",
       " 'than',\n",
       " 'too',\n",
       " 'very',\n",
       " 's',\n",
       " 't',\n",
       " 'can',\n",
       " 'will',\n",
       " 'just',\n",
       " 'don',\n",
       " \"don't\",\n",
       " 'should',\n",
       " \"should've\",\n",
       " 'now',\n",
       " 'd',\n",
       " 'll',\n",
       " 'm',\n",
       " 'o',\n",
       " 're',\n",
       " 've',\n",
       " 'y',\n",
       " 'ain',\n",
       " 'aren',\n",
       " \"aren't\",\n",
       " 'couldn',\n",
       " \"couldn't\",\n",
       " 'didn',\n",
       " \"didn't\",\n",
       " 'doesn',\n",
       " \"doesn't\",\n",
       " 'hadn',\n",
       " \"hadn't\",\n",
       " 'hasn',\n",
       " \"hasn't\",\n",
       " 'haven',\n",
       " \"haven't\",\n",
       " 'isn',\n",
       " \"isn't\",\n",
       " 'ma',\n",
       " 'mightn',\n",
       " \"mightn't\",\n",
       " 'mustn',\n",
       " \"mustn't\",\n",
       " 'needn',\n",
       " \"needn't\",\n",
       " 'shan',\n",
       " \"shan't\",\n",
       " 'shouldn',\n",
       " \"shouldn't\",\n",
       " 'wasn',\n",
       " \"wasn't\",\n",
       " 'weren',\n",
       " \"weren't\",\n",
       " 'won',\n",
       " \"won't\",\n",
       " 'wouldn',\n",
       " \"wouldn't\"]"
      ]
     },
     "execution_count": 46,
     "metadata": {},
     "output_type": "execute_result"
    }
   ],
   "source": [
    "stopwords"
   ]
  },
  {
   "cell_type": "code",
   "execution_count": 29,
   "id": "e8c45cf9-f06c-4a6e-a199-8867fde0ab24",
   "metadata": {},
   "outputs": [],
   "source": [
    "def remove_stopwors(text):\n",
    "    new_text = []\n",
    "    for i in text.split():\n",
    "        if i in stopwords:\n",
    "            pass\n",
    "        else:\n",
    "            new_text.append(i)\n",
    "    return ' '.join(new_text)"
   ]
  },
  {
   "cell_type": "code",
   "execution_count": 30,
   "id": "124bebe1-8b29-44d3-875a-8844f4a2fecf",
   "metadata": {},
   "outputs": [
    {
     "name": "stdout",
     "output_type": "stream",
     "text": [
      "i grew up (b. 1965) watching and loving the thunderbirds. all my mates at school watched. we played \"thunderbirds\" before school, during lunch and after school. we all wanted to be virgil or scott. no one wanted to be alan. counting down from 5 became an art form. i took my children to see the movie hoping they would get a glimpse of what i loved as a child. how bitterly disappointing. the only high point was the snappy theme tune. not that it could compare with the original score of the thunderbirds. thankfully early saturday mornings one television channel still plays reruns of the series gerry anderson and his wife created. jonatha frakes should hand in his directors chair, his version was completely hopeless. a waste of film. utter rubbish. a cgi remake may be acceptable but replacing marionettes with homo sapiens subsp. sapiens was a huge error of judgment.\n"
     ]
    },
    {
     "data": {
      "text/plain": [
       "'grew (b. 1965) watching loving thunderbirds. mates school watched. played \"thunderbirds\" school, lunch school. wanted virgil scott. one wanted alan. counting 5 became art form. took children see movie hoping would get glimpse loved child. bitterly disappointing. high point snappy theme tune. could compare original score thunderbirds. thankfully early saturday mornings one television channel still plays reruns series gerry anderson wife created. jonatha frakes hand directors chair, version completely hopeless. waste film. utter rubbish. cgi remake may acceptable replacing marionettes homo sapiens subsp. sapiens huge error judgment.'"
      ]
     },
     "execution_count": 30,
     "metadata": {},
     "output_type": "execute_result"
    }
   ],
   "source": [
    "print(df.text[0])\n",
    "remove_stopwors(df.text[0])"
   ]
  },
  {
   "cell_type": "markdown",
   "id": "d1791dd3-18f8-4b52-9289-f4d02dcc6d7f",
   "metadata": {},
   "source": [
    "# Tokenization"
   ]
  },
  {
   "cell_type": "code",
   "execution_count": 31,
   "id": "e18a1f01-6913-45b4-9222-db22ebd1928f",
   "metadata": {},
   "outputs": [],
   "source": [
    "from nltk.tokenize import word_tokenize,sent_tokenize\n",
    "from transformers import BertTokenizer"
   ]
  },
  {
   "cell_type": "markdown",
   "id": "e2db4fb9-18b8-4ccf-8024-a445cf2f46d6",
   "metadata": {},
   "source": [
    "#### Using Split method"
   ]
  },
  {
   "cell_type": "code",
   "execution_count": 32,
   "id": "ba082d7e-6ef3-4aa2-b9ab-b17f5368ed68",
   "metadata": {},
   "outputs": [
    {
     "name": "stdout",
     "output_type": "stream",
     "text": [
      "['Hi', 'Ritu.', \"I'm\", 'going', 'to', 'delhi.']\n",
      "['Hi Ritu', \" I'm going to delhi\", '']\n"
     ]
    }
   ],
   "source": [
    "text1 = \"Hi Ritu. I'm going to delhi.\"\n",
    "print(text1.split()) #word tokenization\n",
    "print(text1.split('.')) #sentence tokenization"
   ]
  },
  {
   "cell_type": "code",
   "execution_count": 33,
   "id": "d1739830-04c4-4193-a432-057e28ffa7da",
   "metadata": {},
   "outputs": [
    {
     "data": {
      "text/plain": [
       "['Hi', 'ritu,', 'how', 'are', 'you?']"
      ]
     },
     "execution_count": 33,
     "metadata": {},
     "output_type": "execute_result"
    }
   ],
   "source": [
    "#problems with split\n",
    "text2 = 'Hi ritu, how are you?'\n",
    "text2.split()"
   ]
  },
  {
   "cell_type": "markdown",
   "id": "1efd71f7-c4f3-4e3f-b2f2-f149cf02e7c0",
   "metadata": {},
   "source": [
    "#### Using RegEx"
   ]
  },
  {
   "cell_type": "code",
   "execution_count": 34,
   "id": "22eec937-0c3b-44b5-8ac5-6d743da96196",
   "metadata": {},
   "outputs": [
    {
     "data": {
      "text/plain": [
       "['Hi', 'ritu', 'how', 'are', 'you']"
      ]
     },
     "execution_count": 34,
     "metadata": {},
     "output_type": "execute_result"
    }
   ],
   "source": [
    "re.findall(r'\\w+',text2)"
   ]
  },
  {
   "cell_type": "code",
   "execution_count": 35,
   "id": "155ccf29-94fc-4ec4-9c8c-77731deadc17",
   "metadata": {},
   "outputs": [
    {
     "name": "stdout",
     "output_type": "stream",
     "text": [
      "i grew up (b. 1965) watching and loving the thunderbirds. all my mates at school watched. we played \"thunderbirds\" before school, during lunch and after school. we all wanted to be virgil or scott. no one wanted to be alan. counting down from 5 became an art form. i took my children to see the movie hoping they would get a glimpse of what i loved as a child. how bitterly disappointing. the only high point was the snappy theme tune. not that it could compare with the original score of the thunderbirds. thankfully early saturday mornings one television channel still plays reruns of the series gerry anderson and his wife created. jonatha frakes should hand in his directors chair, his version was completely hopeless. a waste of film. utter rubbish. a cgi remake may be acceptable but replacing marionettes with homo sapiens subsp. sapiens was a huge error of judgment.\n"
     ]
    },
    {
     "data": {
      "text/plain": [
       "['i grew up (b',\n",
       " ' 1965) watching and loving the thunderbirds',\n",
       " ' all my mates at school watched',\n",
       " ' we played \"thunderbirds\" before school, during lunch and after school',\n",
       " ' we all wanted to be virgil or scott',\n",
       " ' no one wanted to be alan',\n",
       " ' counting down from 5 became an art form',\n",
       " ' i took my children to see the movie hoping they would get a glimpse of what i loved as a child',\n",
       " ' how bitterly disappointing',\n",
       " ' the only high point was the snappy theme tune',\n",
       " ' not that it could compare with the original score of the thunderbirds',\n",
       " ' thankfully early saturday mornings one television channel still plays reruns of the series gerry anderson and his wife created',\n",
       " ' jonatha frakes should hand in his directors chair, his version was completely hopeless',\n",
       " ' a waste of film',\n",
       " ' utter rubbish',\n",
       " ' a cgi remake may be acceptable but replacing marionettes with homo sapiens subsp',\n",
       " ' sapiens was a huge error of judgment']"
      ]
     },
     "execution_count": 35,
     "metadata": {},
     "output_type": "execute_result"
    }
   ],
   "source": [
    "print(df.text[0])\n",
    "re.findall(r'[^.]+',df.text[0])"
   ]
  },
  {
   "cell_type": "markdown",
   "id": "9874fe97-3c5c-492d-9b4b-9a39aaeebc7a",
   "metadata": {},
   "source": [
    "#### Uesineg NLTK"
   ]
  },
  {
   "cell_type": "code",
   "execution_count": 36,
   "id": "90d78aad-fb68-4375-ad99-c489270ce489",
   "metadata": {},
   "outputs": [
    {
     "name": "stdout",
     "output_type": "stream",
     "text": [
      "Hi Ritu. I'm going to delhi.\n"
     ]
    },
    {
     "data": {
      "text/plain": [
       "['Hi', 'Ritu', '.', 'I', \"'m\", 'going', 'to', 'delhi', '.']"
      ]
     },
     "execution_count": 36,
     "metadata": {},
     "output_type": "execute_result"
    }
   ],
   "source": [
    "print(text1)\n",
    "word_tokenize(text1)"
   ]
  },
  {
   "cell_type": "code",
   "execution_count": 37,
   "id": "7c6abb19-922b-448f-ac91-c67f9f4b611a",
   "metadata": {},
   "outputs": [
    {
     "name": "stdout",
     "output_type": "stream",
     "text": [
      "Hi Ritu. I'm going to delhi.\n"
     ]
    },
    {
     "data": {
      "text/plain": [
       "['Hi Ritu.', \"I'm going to delhi.\"]"
      ]
     },
     "execution_count": 37,
     "metadata": {},
     "output_type": "execute_result"
    }
   ],
   "source": [
    "print(text1)\n",
    "sent_tokenize(text1)"
   ]
  },
  {
   "cell_type": "code",
   "execution_count": 38,
   "id": "08157202-621c-429d-9bbd-897c19354567",
   "metadata": {},
   "outputs": [
    {
     "name": "stdout",
     "output_type": "stream",
     "text": [
      "Hi ritu, how are you?\n"
     ]
    },
    {
     "data": {
      "text/plain": [
       "['Hi ritu, how are you?']"
      ]
     },
     "execution_count": 38,
     "metadata": {},
     "output_type": "execute_result"
    }
   ],
   "source": [
    "print(text2)\n",
    "sent_tokenize(text2)"
   ]
  },
  {
   "cell_type": "code",
   "execution_count": null,
   "id": "75340913-ea98-4756-8d45-242a6fc708bf",
   "metadata": {},
   "outputs": [],
   "source": []
  },
  {
   "cell_type": "markdown",
   "id": "cd734757-c537-405d-a7c6-be6a10746ee4",
   "metadata": {},
   "source": [
    "# Stemming"
   ]
  },
  {
   "cell_type": "code",
   "execution_count": 39,
   "id": "e74f1331-bc8b-454a-addd-e485cf192d6a",
   "metadata": {},
   "outputs": [],
   "source": [
    "from nltk.stem.porter import PorterStemmer"
   ]
  },
  {
   "cell_type": "code",
   "execution_count": 40,
   "id": "66ac5232-6279-406c-aa0c-0afc0eab4237",
   "metadata": {},
   "outputs": [],
   "source": [
    "ps = PorterStemmer()\n",
    "def stem_words(text):\n",
    "    return ' '.join([ps.stem(word) for word in text.split()])"
   ]
  },
  {
   "cell_type": "code",
   "execution_count": 41,
   "id": "d61b9f6d-37f2-4fcf-b1d4-9a2e401640d6",
   "metadata": {},
   "outputs": [
    {
     "name": "stdout",
     "output_type": "stream",
     "text": [
      "Hi Ritu. I'm going to delhi.\n"
     ]
    },
    {
     "data": {
      "text/plain": [
       "\"hi ritu. i'm go to delhi.\""
      ]
     },
     "execution_count": 41,
     "metadata": {},
     "output_type": "execute_result"
    }
   ],
   "source": [
    "print(text1)\n",
    "stem_words(text1)"
   ]
  },
  {
   "cell_type": "code",
   "execution_count": 42,
   "id": "96b0d800-942e-47dc-b888-97c29f82db55",
   "metadata": {},
   "outputs": [
    {
     "name": "stdout",
     "output_type": "stream",
     "text": [
      "i grew up (b. 1965) watching and loving the thunderbirds. all my mates at school watched. we played \"thunderbirds\" before school, during lunch and after school. we all wanted to be virgil or scott. no one wanted to be alan. counting down from 5 became an art form. i took my children to see the movie hoping they would get a glimpse of what i loved as a child. how bitterly disappointing. the only high point was the snappy theme tune. not that it could compare with the original score of the thunderbirds. thankfully early saturday mornings one television channel still plays reruns of the series gerry anderson and his wife created. jonatha frakes should hand in his directors chair, his version was completely hopeless. a waste of film. utter rubbish. a cgi remake may be acceptable but replacing marionettes with homo sapiens subsp. sapiens was a huge error of judgment.\n"
     ]
    },
    {
     "data": {
      "text/plain": [
       "'i grew up (b. 1965) watch and love the thunderbirds. all my mate at school watched. we play \"thunderbirds\" befor school, dure lunch and after school. we all want to be virgil or scott. no one want to be alan. count down from 5 becam an art form. i took my children to see the movi hope they would get a glimps of what i love as a child. how bitterli disappointing. the onli high point wa the snappi theme tune. not that it could compar with the origin score of the thunderbirds. thank earli saturday morn one televis channel still play rerun of the seri gerri anderson and hi wife created. jonatha frake should hand in hi director chair, hi version wa complet hopeless. a wast of film. utter rubbish. a cgi remak may be accept but replac marionett with homo sapien subsp. sapien wa a huge error of judgment.'"
      ]
     },
     "execution_count": 42,
     "metadata": {},
     "output_type": "execute_result"
    }
   ],
   "source": [
    "print(df.text[0])\n",
    "stem_words(df.text[0])"
   ]
  },
  {
   "cell_type": "markdown",
   "id": "a8c23cb9-bdc2-40f8-942a-3ed34a1e0219",
   "metadata": {},
   "source": [
    "# Lemmatization"
   ]
  },
  {
   "cell_type": "code",
   "execution_count": 43,
   "id": "02a11b5d-f79d-4d55-9db9-118386dc36bc",
   "metadata": {},
   "outputs": [],
   "source": [
    "from nltk.stem import WordNetLemmatizer\n",
    "lemmitizer = WordNetLemmatizer()"
   ]
  },
  {
   "cell_type": "code",
   "execution_count": 44,
   "id": "f61df6a7-945c-4926-b1ff-8a1546bcd4f1",
   "metadata": {},
   "outputs": [
    {
     "name": "stdout",
     "output_type": "stream",
     "text": [
      "Word                Lemma               \n",
      "i                   i                   \n",
      "grew                grow                \n",
      "up                  up                  \n",
      "(b.                 (b.                 \n",
      "1965)               1965)               \n",
      "watching            watch               \n",
      "and                 and                 \n",
      "loving              love                \n",
      "the                 the                 \n",
      "thunderbirds.       thunderbirds.       \n",
      "all                 all                 \n",
      "my                  my                  \n",
      "mates               mat                 \n",
      "at                  at                  \n",
      "school              school              \n",
      "watched.            watched.            \n",
      "we                  we                  \n",
      "played              play                \n",
      "\"thunderbirds\"      \"thunderbirds\"      \n",
      "before              before              \n",
      "school,             school,             \n",
      "during              during              \n",
      "lunch               lunch               \n",
      "and                 and                 \n",
      "after               after               \n",
      "school.             school.             \n",
      "we                  we                  \n",
      "all                 all                 \n",
      "wanted              want                \n",
      "to                  to                  \n",
      "be                  be                  \n",
      "virgil              virgil              \n",
      "or                  or                  \n",
      "scott.              scott.              \n",
      "no                  no                  \n",
      "one                 one                 \n",
      "wanted              want                \n",
      "to                  to                  \n",
      "be                  be                  \n",
      "alan.               alan.               \n",
      "counting            count               \n",
      "down                down                \n",
      "from                from                \n",
      "5                   5                   \n",
      "became              become              \n",
      "an                  an                  \n",
      "art                 art                 \n",
      "form.               form.               \n",
      "i                   i                   \n",
      "took                take                \n",
      "my                  my                  \n",
      "children            children            \n",
      "to                  to                  \n",
      "see                 see                 \n",
      "the                 the                 \n",
      "movie               movie               \n",
      "hoping              hop                 \n",
      "they                they                \n",
      "would               would               \n",
      "get                 get                 \n",
      "a                   a                   \n",
      "glimpse             glimpse             \n",
      "of                  of                  \n",
      "what                what                \n",
      "i                   i                   \n",
      "loved               love                \n",
      "as                  as                  \n",
      "a                   a                   \n",
      "child.              child.              \n",
      "how                 how                 \n",
      "bitterly            bitterly            \n",
      "disappointing.      disappointing.      \n",
      "the                 the                 \n",
      "only                only                \n",
      "high                high                \n",
      "point               point               \n",
      "was                 be                  \n",
      "the                 the                 \n",
      "snappy              snappy              \n",
      "theme               theme               \n",
      "tune.               tune.               \n",
      "not                 not                 \n",
      "that                that                \n",
      "it                  it                  \n",
      "could               could               \n",
      "compare             compare             \n",
      "with                with                \n",
      "the                 the                 \n",
      "original            original            \n",
      "score               score               \n",
      "of                  of                  \n",
      "the                 the                 \n",
      "thunderbirds.       thunderbirds.       \n",
      "thankfully          thankfully          \n",
      "early               early               \n",
      "saturday            saturday            \n",
      "mornings            mornings            \n",
      "one                 one                 \n",
      "television          television          \n",
      "channel             channel             \n",
      "still               still               \n",
      "plays               play                \n",
      "reruns              rerun               \n",
      "of                  of                  \n",
      "the                 the                 \n",
      "series              series              \n",
      "gerry               gerry               \n",
      "anderson            anderson            \n",
      "and                 and                 \n",
      "his                 his                 \n",
      "wife                wife                \n",
      "created.            created.            \n",
      "jonatha             jonatha             \n",
      "frakes              frakes              \n",
      "should              should              \n",
      "hand                hand                \n",
      "in                  in                  \n",
      "his                 his                 \n",
      "directors           directors           \n",
      "chair,              chair,              \n",
      "his                 his                 \n",
      "version             version             \n",
      "was                 be                  \n",
      "completely          completely          \n",
      "hopeless.           hopeless.           \n",
      "a                   a                   \n",
      "waste               waste               \n",
      "of                  of                  \n",
      "film.               film.               \n",
      "utter               utter               \n",
      "rubbish.            rubbish.            \n",
      "a                   a                   \n",
      "cgi                 cgi                 \n",
      "remake              remake              \n",
      "may                 may                 \n",
      "be                  be                  \n",
      "acceptable          acceptable          \n",
      "but                 but                 \n",
      "replacing           replace             \n",
      "marionettes         marionettes         \n",
      "with                with                \n",
      "homo                homo                \n",
      "sapiens             sapiens             \n",
      "subsp.              subsp.              \n",
      "sapiens             sapiens             \n",
      "was                 be                  \n",
      "a                   a                   \n",
      "huge                huge                \n",
      "error               error               \n",
      "of                  of                  \n",
      "judgment.           judgment.           \n"
     ]
    }
   ],
   "source": [
    "print('{0:20}{1:20}'.format('Word','Lemma'))\n",
    "for i in df.text[0].split():\n",
    "    print('{0:20}{1:20}'.format(i,lemmitizer.lemmatize(i,pos = 'v')))\n",
    "    \n",
    "    "
   ]
  },
  {
   "cell_type": "code",
   "execution_count": null,
   "id": "92bb8f81-c6ee-40b3-9d54-1e1a2ce5add9",
   "metadata": {},
   "outputs": [],
   "source": []
  }
 ],
 "metadata": {
  "kernelspec": {
   "display_name": "Python 3 (ipykernel)",
   "language": "python",
   "name": "python3"
  },
  "language_info": {
   "codemirror_mode": {
    "name": "ipython",
    "version": 3
   },
   "file_extension": ".py",
   "mimetype": "text/x-python",
   "name": "python",
   "nbconvert_exporter": "python",
   "pygments_lexer": "ipython3",
   "version": "3.12.0"
  }
 },
 "nbformat": 4,
 "nbformat_minor": 5
}
